{
 "cells": [
  {
   "cell_type": "markdown",
   "metadata": {},
   "source": [
    "# Numerische Methoden für Differentialgleichungen"
   ]
  },
  {
   "cell_type": "markdown",
   "metadata": {},
   "source": [
    "## Aufgabenblatt 2\n",
    "*gelöst von Stollmayer Max*"
   ]
  },
  {
   "cell_type": "markdown",
   "metadata": {},
   "source": [
    "### Aufgabe 1"
   ]
  },
  {
   "cell_type": "markdown",
   "metadata": {},
   "source": [
    "Gegeben sei $y'(t)=f(t,y)=\\frac{t+1}{y}$, $y_0 = 1$, $t_0 = 0$ und die exakte Lösung $y(t)=|t+1|$. Das Vorwärts-Euler-Verfahren für Schrittweite $h>0$ liefert für dieses Problem die exakte Lösung."
   ]
  },
  {
   "cell_type": "markdown",
   "metadata": {},
   "source": [
    "Zu zeigen ist nun $y_{n+1} = y(t_{n+1}) \\; \\forall n \\in \\mathbb{N}$, wobei $t_{n+1} = t_0 + (n+1) \\ h$ und $y_{n+1}=y_n + h \\ f(t_n,y_n)$."
   ]
  },
  {
   "cell_type": "markdown",
   "metadata": {},
   "source": [
    "**Induktionsanfang:**  Es sei $n=0$, dann gilt $y_1 = y_0 + h \\ f(t_0,y_0) = 1 + h \\frac{1}{1} = 1+h = y(h) = y(t_1)$."
   ]
  },
  {
   "cell_type": "markdown",
   "metadata": {},
   "source": [
    "**Induktionsannahme:**  Für $n \\in \\mathbb{N}$ gelte $y_n = y(t_n)$."
   ]
  },
  {
   "cell_type": "markdown",
   "metadata": {},
   "source": [
    "**Induktionsschritt:**  Für n+1 folgt nun $y_{n+1}=y_n+h \\ f(t_n,y_n)=y(n \\ h)+h \\frac{t_n + 1}{y(n \\ h)}=n \\ h +1+h \\frac{n \\ h + 1}{n \\ h +1}=n \\ h +1 + h=(n+1) \\ h+1=y\\big((n+1) \\ h\\big)=y(t_{n+1})$."
   ]
  },
  {
   "cell_type": "markdown",
   "metadata": {},
   "source": [
    "<div style=\"width:12px; height:12px; border:1px solid #000; margin-left:auto; margin-right:0;\"></div>"
   ]
  },
  {
   "cell_type": "markdown",
   "metadata": {},
   "source": [
    "### Aufgabe 2"
   ]
  },
  {
   "cell_type": "markdown",
   "metadata": {},
   "source": [
    "Für $y'(t)=f(t,y)=a(t) \\ y(t)+b(t)$ lässt sich das Crank-Nicolson-Verfahren zu einem expliziten Ausdruck umformen:"
   ]
  },
  {
   "cell_type": "markdown",
   "metadata": {},
   "source": [
    "\\begin{align}\n",
    "y_{n+1} &= y_n+\\frac{h}{2}\\bigg(f(t_n,y_n)+f(t_{n+1},y_{n+1})\\bigg) \\\\\n",
    "&= y_n + \\frac{h}{2}\\bigg(f(t_n,y_n)+a(t_{n+1}) \\ y_{n+1}+b(t_{n+1})\\bigg) \\\\\n",
    "\\llap{\\Longleftrightarrow \\qquad} \\big(2 - h \\ a(t_{n+1})\\big) \\ y_{n+1} &= 2 \\ y_n + h \\ \\big(f(t_n,y_n)+b(t_{n+1})\\big) \\\\\n",
    "\\llap{\\Longleftrightarrow \\qquad} y_{n+1} &= \\frac{2 \\ y_n + h \\ \\big(f(t_n,y_n)+b(t_{n+1})\\big)}{2 - h \\ a(t_{n+1})} \\\\\n",
    "&= \\frac{2 - h \\ a(t_n)}{2 - h \\ a(t_{n+1})} \\ y_n + h \\ \\big(b(t_{n+1})+b(t_n)\\big) \\\\\n",
    "&= \\frac{2 - h \\ a(t_n)}{2 - h \\ a(t_{n+1})} \\bigg( \\frac{2 - h \\ a(t_{n-1})}{2 - h \\ a(t_{n})} \\ y_{n-1} + h \\ \\big(b(t_{n})+b(t_{n-1})\\big) \\bigg) + h \\ \\big(b(t_{n+1})+b(t_n)\\big) \\\\\n",
    "&= \\frac{2 - h \\ a(t_{n-1})}{2 - h \\ a(t_{n+1})} \\ y_{n-1} + \\frac{2 - h \\ a(t_{n})}{2 - h \\ a(t_{n+1})} \\ h \\ \\big(b(t_{n})+b(t_{n-1})\\big) + \\frac{2 - h \\ a(t_{n+1})}{2 - h \\ a(t_{n+1})} \\ h \\ \\big(b(t_{n+1})+b(t_n)\\big) \\\\\n",
    "&= \\dots \\\\\n",
    "&= \\frac{1}{2-h \\ a(t_{n+1})} \\bigg( \\big(2-h \\ a(t_0)\\big) \\ y_0 + h \\ \\sum_{k=1}^{n+1} \\big(2-h \\ a(t_k)\\big)\\big(b(t_k)+b(t_{k-1})\\big)\\bigg)\n",
    "\\end{align}"
   ]
  },
  {
   "cell_type": "markdown",
   "metadata": {},
   "source": [
    "Also ist unser expliziter Ausdruck für lineare ODE 1. Ordnung:"
   ]
  },
  {
   "cell_type": "markdown",
   "metadata": {},
   "source": [
    "$$ y_n = \\frac{1}{2-h \\ a(t_n)} \\bigg( \\big(2-h \\ a(t_0)\\big) \\ y_0 + h \\ \\sum_{k=1}^n \\big(2-h \\ a(t_k)\\big)\\big(b(t_k)+b(t_{k-1})\\big)\\bigg) $$"
   ]
  }
 ],
 "metadata": {
  "kernelspec": {
   "display_name": "Python 3",
   "language": "python",
   "name": "python3"
  },
  "language_info": {
   "codemirror_mode": {
    "name": "ipython",
    "version": 3
   },
   "file_extension": ".py",
   "mimetype": "text/x-python",
   "name": "python",
   "nbconvert_exporter": "python",
   "pygments_lexer": "ipython3",
   "version": "3.6.5"
  }
 },
 "nbformat": 4,
 "nbformat_minor": 2
}
