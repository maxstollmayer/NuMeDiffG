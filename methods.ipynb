{
 "cells": [
  {
   "cell_type": "markdown",
   "metadata": {},
   "source": [
    "# Numerical Methods"
   ]
  },
  {
   "cell_type": "code",
   "execution_count": 1,
   "metadata": {},
   "outputs": [],
   "source": [
    "import numpy as np"
   ]
  },
  {
   "cell_type": "markdown",
   "metadata": {},
   "source": [
    "### Equation Solvers"
   ]
  },
  {
   "cell_type": "code",
   "execution_count": 2,
   "metadata": {},
   "outputs": [],
   "source": [
    "def fixed_point_iter(f, y0, *args, tol=0.01, steps=100):\n",
    "    '''\n",
    "    Returns approximated fixed point of given function if found using a simple\n",
    "    fixed point iteration.\n",
    "\n",
    "    f ....... function with y as first positional argument\n",
    "    y0 ...... initial value of iteration\n",
    "    *args ... static arguments of f\n",
    "    tol ..... tolerance of approximation to stop iterating\n",
    "    steps ... maximum number of iterations before divergence is declared\n",
    "    '''\n",
    "\n",
    "    y = np.zeros(steps) if isinstance(y0, (int, float)) else np.zeros((steps, np.size(y0)))\n",
    "    y[0] = y0\n",
    "\n",
    "    for n in range(0, steps):\n",
    "        y[n+1] = f(y[n], *args)\n",
    "\n",
    "        if np.allclose(y[n+1], y[n], atol=tol):\n",
    "            return y[n+1]\n",
    "\n",
    "    else:\n",
    "        print(f\"Fixed-point iteration did not converge in {steps} steps. Returned initial value.\")\n",
    "        return y0"
   ]
  },
  {
   "cell_type": "code",
   "execution_count": 3,
   "metadata": {},
   "outputs": [],
   "source": [
    "def newton_raphson(f, df, x0, *args, tol=0.01, steps=100, eps=10**(-10)):\n",
    "    '''\n",
    "    Returns approximated root of given function if found using the\n",
    "    Newton-Raphson method.\n",
    "\n",
    "    f ....... function with x as first positional argument\n",
    "    df ...... derivative of f with same arguments as f\n",
    "    x0 ...... initial value of iteration\n",
    "    *args ... static arguments of f and df\n",
    "    tol ..... tolerance of approximation to stop iterating\n",
    "    steps ... number of values that get calculated\n",
    "    eps ..... minimum value of the denominator in the calculation\n",
    "    '''\n",
    "\n",
    "    x = np.zeros(steps) if isinstance(x0, (int, float)) else np.zeros((steps, np.size(x0))) \n",
    "    x[0] = x0\n",
    "\n",
    "    for n in range(0, steps):\n",
    "        y = f(x[n], *args)\n",
    "        dy = df(x[n], *args)\n",
    "\n",
    "        if np.abs(dy) <= eps:\n",
    "            print(f\"Denominator f'(x[{n}]) too small. Returned last value x[{n}].\")\n",
    "            return x[n]\n",
    "\n",
    "        x[n+1] = x[n] - y / dy\n",
    "\n",
    "        if np.allclose(x[n+1], x[n], atol=tol):\n",
    "            return x[n+1]\n",
    "\n",
    "    else:\n",
    "        print(f\"Newton-Raphson did not converge in {steps} steps. Returned initial value.\")\n",
    "        return x0"
   ]
  },
  {
   "cell_type": "code",
   "execution_count": 4,
   "metadata": {},
   "outputs": [],
   "source": [
    "def line_method(f, y, *args, tol=0.01, steps=100):\n",
    "    pass"
   ]
  },
  {
   "cell_type": "code",
   "execution_count": 5,
   "metadata": {},
   "outputs": [],
   "source": [
    "def dampend_newton(f, y, *args, tol=0.01, steps=100):\n",
    "    pass"
   ]
  },
  {
   "cell_type": "code",
   "execution_count": 6,
   "metadata": {},
   "outputs": [],
   "source": [
    "def modified_newton(f, y, *args, tol=0.01, steps=100):\n",
    "    pass"
   ]
  },
  {
   "cell_type": "markdown",
   "metadata": {},
   "source": [
    "## ODE Solvers"
   ]
  },
  {
   "cell_type": "markdown",
   "metadata": {},
   "source": [
    "### Single-step methods"
   ]
  },
  {
   "cell_type": "markdown",
   "metadata": {},
   "source": [
    "#### Explicit"
   ]
  },
  {
   "cell_type": "code",
   "execution_count": 7,
   "metadata": {},
   "outputs": [],
   "source": [
    "def forward_euler(f, y0, t0, tN, N):\n",
    "    '''\n",
    "    Returns list of function values approximated with the forward Euler method.\n",
    "\n",
    "    f .... function of ODE y' = f(y, t)\n",
    "    y0 ... initial value\n",
    "    t0 ... start of interval\n",
    "    tN ... end of interval\n",
    "    N .... number of steps\n",
    "    '''\n",
    "\n",
    "    h = (tN - t0) / N\n",
    "    t = t0 + h * np.arange(N+1)\n",
    "    \n",
    "    y = np.zeros(N+1) if isinstance(y0, (int, float)) else np.zeros((N+1, np.size(y0)))\n",
    "    y[0] = y0\n",
    "\n",
    "    for n in range(N):\n",
    "        y[n+1] = y[n] + h * f(y[n], t[n])\n",
    "\n",
    "    return t, y"
   ]
  },
  {
   "cell_type": "code",
   "execution_count": 8,
   "metadata": {},
   "outputs": [],
   "source": [
    "def rk4(f, y0, t0, tN, N):\n",
    "    '''\n",
    "    Returns list of function values approximated with the Runge-Kutta method of 4th order.\n",
    "\n",
    "    f .... function of ODE y' = f(y, t)\n",
    "    y0 ... initial value y(t0) = y0\n",
    "    t0 ... start of interval\n",
    "    tN ... end of interval\n",
    "    N .... number of steps\n",
    "    '''\n",
    "    \n",
    "    h = (tN - t0) / N\n",
    "    t = t0 + h * np.arange(N+1)\n",
    "    \n",
    "    y = np.zeros(N+1) if isinstance(y0, (int, float)) else np.zeros((N+1, np.size(y0)))\n",
    "    y[0] = y0\n",
    "    \n",
    "    for n in range(N):\n",
    "        k1 = f(y[n], t[n])\n",
    "        k2 = f(y[n] + h/2 * k1, t[n] + h/2)\n",
    "        k3 = f(y[n] + h/2 * k2, t[n] + h/2)\n",
    "        k4 = f(y[n] + h * k3, t[n] + h)\n",
    "        y[n+1] = y[n] + h/6 * (k1 + 2*k2 + 2*k3 + k4)\n",
    "    \n",
    "    return t, y"
   ]
  },
  {
   "cell_type": "markdown",
   "metadata": {},
   "source": [
    "#### Implicit"
   ]
  },
  {
   "cell_type": "code",
   "execution_count": 9,
   "metadata": {},
   "outputs": [],
   "source": [
    "def backward_euler(f, y0, t0, tN, N, tol=0.01):\n",
    "    '''\n",
    "    Returns list of input values and list of corresponding function values\n",
    "    approximated with the backward Euler method.\n",
    "\n",
    "    f ..... function of ODE y' = f(y, t)\n",
    "    y0 .... initial value y(t0) = y0\n",
    "    t0 .... starting point of interval\n",
    "    tN .... end point of interval\n",
    "    N ..... number of steps\n",
    "    tol ... tolerance of approximation to stop iterating\n",
    "    '''\n",
    "\n",
    "    h = (tN - t0) / N\n",
    "    t = t0 + h * np.arange(N+1)\n",
    "\n",
    "    y = np.zeros(N+1) if isinstance(y0, (int, float)) else np.zeros((N+1, np.size(y0)))\n",
    "    y[0] = y0\n",
    "\n",
    "    def g(y_iter, t_n, y_n):\n",
    "        return y_n + h * f(y_iter, t_n)\n",
    "\n",
    "    for n in range(N):\n",
    "        y[n+1] = fixed_point_iter(g, y[n], t[n], y[n], tol=tol)\n",
    "\n",
    "    return t, y"
   ]
  },
  {
   "cell_type": "code",
   "execution_count": 10,
   "metadata": {},
   "outputs": [],
   "source": [
    "def crank_nicolson(f, y0, t0, tN, N, tol=0.01):\n",
    "    '''\n",
    "    Returns list of input values and list of corresponding function values\n",
    "    approximated with the Crank-Nicolson method.\n",
    "\n",
    "    f ..... function of ODE y' = f(y, t)\n",
    "    y0 .... initial value y(t0) = y0\n",
    "    t0 .... starting point of interval\n",
    "    tN .... end point of interval\n",
    "    N ..... number of steps\n",
    "    tol ... tolerance of approximation to stop iterating\n",
    "    '''\n",
    "\n",
    "    h = (tN - t0) / N\n",
    "    t = t0 + h * np.arange(N+1)\n",
    "\n",
    "    y = np.zeros(N+1) if isinstance(y0, (int, float)) else np.zeros((N+1, np.size(y0)))\n",
    "    y[0] = y0\n",
    "\n",
    "    def g(y_iter, t_next, y_n, t_n):\n",
    "        return y_n + h/2 * (f(y_n, t_n) + f(y_iter, t_next))\n",
    "\n",
    "    for n in range(N):\n",
    "        y[n+1] = fixed_point_iter(g, y[n], t[n+1], y[n], t[n], tol=tol)\n",
    "\n",
    "    return t, y"
   ]
  },
  {
   "cell_type": "markdown",
   "metadata": {},
   "source": [
    "#### Runge-Kutta Class"
   ]
  },
  {
   "cell_type": "code",
   "execution_count": 11,
   "metadata": {},
   "outputs": [],
   "source": [
    "class Runge_Kutta:\n",
    "    '''\n",
    "    An instance of Runge_Kutta is an iterative numerical method defined by its\n",
    "    butcher array.\n",
    "    '''\n",
    "\n",
    "    def __init__(self, A, b, c):\n",
    "        self.order = len(b)\n",
    "        if A.shape == (self.order, self.order) and len(c) == len(b):\n",
    "            self.A = A\n",
    "            self.b = b\n",
    "            self.c = c\n",
    "        else:\n",
    "            raise Exception(f\"Input shapes are mismatched. A: {A.shape}, b: {len(b)}, c: {len(c)}\")\n",
    "\n",
    "    def solve(self, f, y0, a, b, h=None, N=None, tol=0.01):\n",
    "        if not callable(f):\n",
    "            raise Exception(f\"Expected a callable function, not {f}.\")\n",
    "        elif not isinstance(y0, (int, float, list, tuple, np.ndarray)):\n",
    "            raise Exception(f\"Expected a number or array, not {y0}.\")\n",
    "        elif not isinstance(a, (int, float)) or not isinstance(a, (int, float)) or not a < b:\n",
    "            raise Exception(f\"Expected two numbers that satisfy a < b.\")\n",
    "        elif not isinstance(h, (None, int, float)):\n",
    "            raise Exception(\"Step size should be a number.\")\n",
    "        elif not isinstance(N, (None, int)):\n",
    "            raise Exception(\"Expected a number for the number of steps.\")\n",
    "        elif not isinstance(tol, (float, int)):\n",
    "            raise Exception(\"Tolerance should be a number.\")\n",
    "\n",
    "        h = (tN - t0) / N\n",
    "        t = t0 + h * np.arange(N+1)\n",
    "        y = np.array([y0])\n",
    "\n",
    "        for n in range(1, N+1):\n",
    "            self.get_k()\n",
    "\n",
    "        return t, y\n",
    "\n",
    "    def get_k(self, f, y_n, t_n):\n",
    "        '''\n",
    "        k_j = f(t_n + h * c_j, y_n + h * Sum_l=1^s a_jl * k_l) for j = 1,...,s\n",
    "        '''\n",
    "\n",
    "        def g():\n",
    "            pass\n",
    "\n",
    "        k = np.zeros(self.s)\n",
    "        for j in range(1, self.s + 1):\n",
    "            k[j] = self.iter()\n",
    "\n",
    "        return k\n",
    "\n",
    "    def iter(self, f, y0):\n",
    "        pass"
   ]
  },
  {
   "cell_type": "markdown",
   "metadata": {},
   "source": [
    "### Multi-step methods"
   ]
  },
  {
   "cell_type": "markdown",
   "metadata": {},
   "source": [
    "#### Explicit"
   ]
  },
  {
   "cell_type": "code",
   "execution_count": 272,
   "metadata": {},
   "outputs": [],
   "source": [
    "def adams_bashforth(f, y0, t0, tN, N, order=4, inits=None):\n",
    "    '''\n",
    "    Returns list of function values approximated with the Adams-Bashforth method.\n",
    "\n",
    "    f ....... function of ODE y' = f(y, t)\n",
    "    inits ... initial values (y0, ...)\n",
    "    t0 ...... start of interval\n",
    "    tN ...... end of interval\n",
    "    N ....... number of steps\n",
    "    order ... order of method\n",
    "    inits ... inital values after y0 up to order\n",
    "    '''\n",
    "    \n",
    "    h = (tN - t0) / N\n",
    "    t = t0 + h * np.arange(N+1)\n",
    "    \n",
    "    koeffs = (1,\n",
    "              [-1/2, 3/2],\n",
    "              [5/12, -16/12, 23/12],\n",
    "              [-9/24, 37/24, -59/24, 55/24],\n",
    "              [251/720, -1274/720, 2616/720, -2774/720, 1901/720])\n",
    "    \n",
    "    y = np.zeros(N+1) if isinstance(y0, (int, float)) else np.zeros((N+1, y0.size))\n",
    "    y[0] = y0\n",
    "    \n",
    "    fn = np.zeros(N+1) if isinstance(y0, (int, float)) else np.zeros((N+1, y0.size))\n",
    "    fn[0] = f(y0, t0)\n",
    "    \n",
    "    s = order-1 if 1 <= order <= 4 else 3\n",
    "    \n",
    "    if s > 0:\n",
    "        if inits is None or len(inits) != s:\n",
    "            inits = rk4(f, y0, t0, t0+h*s, s)[1][1:]\n",
    "        for i in range(s):\n",
    "            y[i+1] = inits[i]\n",
    "            fn[i+1] = f(y[i+1], t[i+1])\n",
    "        \n",
    "    for n in range(N-s):\n",
    "        y[n+s+1] = y[n+s] + h * np.dot(koeffs[s], fn[n:n+s+1])\n",
    "        fn[n+s+1] = f(y[n+s+1], t[n+s+1])\n",
    "    \n",
    "    return t, y"
   ]
  },
  {
   "cell_type": "markdown",
   "metadata": {},
   "source": [
    "#### Implicit"
   ]
  },
  {
   "cell_type": "code",
   "execution_count": 267,
   "metadata": {},
   "outputs": [],
   "source": [
    "def adams_moulton(f, y0, t0, tN, N, order=4, inits=None, tol=0.01, steps=100):\n",
    "    '''\n",
    "    Returns list of function values approximated with the Adams-Moulton method.\n",
    "\n",
    "    f ....... function of ODE y' = f(y, t)\n",
    "    y0 ...... initial value y(t0) = y0\n",
    "    t0 ...... start of interval\n",
    "    tN ...... end of interval\n",
    "    N ....... number of steps\n",
    "    order ... order of method\n",
    "    inits ... optional initial values after y0 up to order\n",
    "    tol ..... tolerance of approximation to stop iterating\n",
    "    steps ... number of steps for the fixed point interation\n",
    "    '''\n",
    "    \n",
    "    h = (tN - t0) / N\n",
    "    t = t0 + h * np.arange(N+1)\n",
    "    \n",
    "    koeffs = ([1/2, 1/2],\n",
    "              [-1/12, 2/3, 5/12],\n",
    "              [1/24, -5/24, 19/24, 9/24],\n",
    "              [-19/720, 106/720, -264/720, 646/720, 251/720])\n",
    "    \n",
    "    y = np.zeros(N+1) if isinstance(y0, (int, float)) else np.zeros((N+1, y0.size))\n",
    "    y[0] = y0\n",
    "    \n",
    "    fn = np.zeros(N+1) if isinstance(y0, (int, float)) else np.zeros((N+1, y0.size))\n",
    "    fn[0] = f(y0, t0)\n",
    "\n",
    "    s = order-1 if 1 <= order <= 4 else 3\n",
    "    \n",
    "    if s > 0:\n",
    "        if inits is None or len(inits) != s:\n",
    "            inits = rk4(f, y0, t0, t0+h*s, s)[1][1:]\n",
    "        for i in range(s):\n",
    "            y[i+1] = inits[i]\n",
    "            fn[i+1] = f(y[i+1], t[i+1])\n",
    "    \n",
    "    for n in range(N-s):\n",
    "        x = np.zeros(steps) if isinstance(y[n+s], (int, float)) else np.zeros((steps, y[n+s].size))\n",
    "        x[0] = y[n+s]\n",
    "        \n",
    "        for i in range(steps-1):\n",
    "            x[i+1] = y[n+s] + h * koeffs[s][-1]*f(x[i], t[n+s+1]) + h * np.dot(koeffs[s][0:-1], fn[n:n+s+1])\n",
    "            if np.allclose(x[i+1], x[i], atol=tol):\n",
    "                y[n+s+1] = x[i+1]\n",
    "                break\n",
    "        else:\n",
    "            y[n+s+1] = x[-1]\n",
    "            \n",
    "        fn[n+s+1] = f(y[n+s+1], t[n+s+1])\n",
    "    \n",
    "    return t, y"
   ]
  },
  {
   "cell_type": "code",
   "execution_count": 274,
   "metadata": {},
   "outputs": [
    {
     "data": {
      "image/png": "[encoded data removed]",
      "text/plain": [
       "<Figure size 921.6x518.4 with 1 Axes>"
      ]
     },
     "metadata": {},
     "output_type": "display_data"
    }
   ],
   "source": [
    "from matplotlib import pyplot as plt\n",
    "plt.style.use(\"seaborn\")\n",
    "plt.rcParams['figure.figsize'] = [12.8, 7.2]\n",
    "\n",
    "def f(y, t):\n",
    "    return -2 * t * y**2\n",
    "\n",
    "def g(x):\n",
    "    return 1 / (x**2 + 1)\n",
    "\n",
    "y0 = 1\n",
    "t0 = 0\n",
    "tN = 1\n",
    "N = 10\n",
    "\n",
    "\n",
    "plt.plot(*adams_moulton(f,y0,t0,tN,N))\n",
    "\n",
    "x = np.linspace(0, 1, 101)\n",
    "plt.plot(x, g(x), label=\"exact\")\n",
    "plt.legend()\n",
    "plt.show()"
   ]
  },
  {
   "cell_type": "markdown",
   "metadata": {},
   "source": [
    "### Predictor-Corrector"
   ]
  },
  {
   "cell_type": "code",
   "execution_count": 112,
   "metadata": {},
   "outputs": [],
   "source": [
    "def heun(f, y0, t0, tN, N):\n",
    "    '''\n",
    "    Returns list of function values approximated with the Heun method.\n",
    "\n",
    "    f .... function of ODE y' = f(y, t)\n",
    "    y0 ... initial value y(t0) = y0\n",
    "    t0 ... start of interval\n",
    "    tN ... end of interval\n",
    "    N .... number of steps\n",
    "    '''\n",
    "    \n",
    "    h = (tN - t0) / N\n",
    "    t = t0 + h * np.arange(N+1)\n",
    "    \n",
    "    y = yp = np.zeros(N+1) if isinstance(y0, (int, float)) else np.zeros((N+1, np.size(y0)))\n",
    "    y[0] = yp[0] = y0\n",
    "    \n",
    "    for n in range(N):\n",
    "        # predictor: forward euler\n",
    "        yp[n+1] = y[n] + h * f(y[n], t[n])\n",
    "\n",
    "        #corrector: trapezoidal rule / crank nicolson\n",
    "        y[n+1] = y[n] + h/2 * (f(y[n], t[n]) + f(yp[n+1], t[n+1]))\n",
    "    \n",
    "    return t, y"
   ]
  },
  {
   "cell_type": "code",
   "execution_count": null,
   "metadata": {},
   "outputs": [],
   "source": [
    "def ABE(f, y0, t0, tN, N, order=4, inits=None):\n",
    "    for n in range(N):\n",
    "        # predictor: adams bashforth\n",
    "        vals = y[:]\n",
    "        yp[n+1] = adams_bashforth(f, y0, t0, t0+h*(s+1), s+1, order=s+1, inits=vals)[1][-1]\n",
    "        \n",
    "        # evaluation\n",
    "        fp[n+1] = f(yp[n+1], t[n+1])\n",
    "        \n",
    "        # corrector: adams moulton\n",
    "        fvals = fn[n:n+s+1]\n",
    "        y[n+1] = y[n] + h * np.dot(koeffs[] * fvals) + h * koeffs[] * f(yp[n+1], t[n+1])\n",
    "        \n",
    "        #evaluation\n",
    "        fn[n+1] = f(y[n+1], t[n+1])\n",
    "        \n",
    "    return t, y"
   ]
  },
  {
   "cell_type": "markdown",
   "metadata": {},
   "source": [
    "### Adaptive methods"
   ]
  },
  {
   "cell_type": "code",
   "execution_count": null,
   "metadata": {},
   "outputs": [],
   "source": [
    "def double():\n",
    "    pass"
   ]
  },
  {
   "cell_type": "code",
   "execution_count": null,
   "metadata": {},
   "outputs": [],
   "source": [
    "def RKF45():\n",
    "    pass"
   ]
  },
  {
   "cell_type": "markdown",
   "metadata": {},
   "source": [
    "## Test functions"
   ]
  },
  {
   "cell_type": "code",
   "execution_count": 16,
   "metadata": {},
   "outputs": [],
   "source": [
    "from matplotlib import pyplot as plt\n",
    "plt.style.use(\"seaborn\")\n",
    "plt.rcParams['figure.figsize'] = [12.8, 7.2]\n",
    "\n",
    "def f(y, t):\n",
    "    return -2 * t * y**2\n",
    "\n",
    "def g(x):\n",
    "    return 1 / (x**2 + 1)\n",
    "\n",
    "y0 = 1\n",
    "t0 = 0\n",
    "tN = 1\n",
    "N = 10\n",
    "\n",
    "t, y = \n",
    "plt.plot(t, y, label=f\"\")\n",
    "\n",
    "x = np.linspace(0, 1, 101)\n",
    "plt.plot(x, g(x), label=\"exact\")\n",
    "plt.legend()\n",
    "plt.show()"
   ]
  },
  {
   "cell_type": "code",
   "execution_count": null,
   "metadata": {},
   "outputs": [],
   "source": [
    "from matplotlib import pyplot as plt\n",
    "plt.style.use(\"seaborn\")\n",
    "plt.rcParams['figure.figsize'] = [12.8, 7.2]\n",
    "\n",
    "def f(y, t):\n",
    "    predator = 0.1 * y[0] * y[1] - 1 * y[0]\n",
    "    prey = 4 * y[1] - 1 * y[0] * y[1]\n",
    "    return np.array([predator, prey])\n",
    "\n",
    "y0 = np.array([3, 5])\n",
    "t0 = 0\n",
    "tN = 10\n",
    "N = 100\n",
    "\n",
    "t, y =\n",
    "plt.plot(t, y.T[0], label=\"predator\")\n",
    "plt.plot(t, y.T[1], label=\"prey\")\n",
    "\n",
    "plt.legend()\n",
    "plt.show()"
   ]
  }
 ],
 "metadata": {
  "kernelspec": {
   "display_name": "Python 3",
   "language": "python",
   "name": "python3"
  },
  "language_info": {
   "codemirror_mode": {
    "name": "ipython",
    "version": 3
   },
   "file_extension": ".py",
   "mimetype": "text/x-python",
   "name": "python",
   "nbconvert_exporter": "python",
   "pygments_lexer": "ipython3",
   "version": "3.8.2"
  }
 },
 "nbformat": 4,
 "nbformat_minor": 4
}
