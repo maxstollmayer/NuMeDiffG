{
 "cells": [
  {
   "cell_type": "markdown",
   "metadata": {},
   "source": [
    "# Numerische Methoden für Differentialgleichungen\n",
    "## Aufgabenblatt 7\n",
    "*gelöst von Stollmayer Max*"
   ]
  },
  {
   "cell_type": "markdown",
   "metadata": {},
   "source": [
    "Für die Transportgleichung mit konstantem Koeffizient $a = -1$ und $D = [0,1]$\n",
    "\n",
    "\\begin{cases}\n",
    "\\partial_t u(x,t) + a\\partial_x u(x,t) = 0,\\quad x\\in D,\\ t\\ge 0 \\\\\n",
    "u(x,0)=u_0(x),\\quad x\\in D \\\\\n",
    "u(0,t)=u(1,t),\\quad t\\ge 0\n",
    "\\end{cases}\n",
    "\n",
    "ist das Upwind- und das Lax-Friedrichs-Verfahren zu implementieren.\n",
    "Dabei sind $u_0(x)=sin(2\\pi x)$, $N=50$ und $N=400$ Gitterpunkte in Ortsrichtung und einem Zeitschritt $k$, der die Stabilitätsbedingung $|a|\\frac{k}{h} < 1$ erfüllt.\n",
    "\n",
    "Die Verfahren sind mit der exakten Lösung zu den Zeiten $T=0.5$ und $T=1$ zu vergleichen."
   ]
  },
  {
   "cell_type": "code",
   "execution_count": 1,
   "metadata": {},
   "outputs": [],
   "source": [
    "import numpy as np\n",
    "from matplotlib import pyplot as plt\n",
    "from matplotlib import rcdefaults\n",
    "\n",
    "rcdefaults()\n",
    "plt.style.use(\"seaborn-whitegrid\")\n",
    "plt.rcParams[\"figure.figsize\"] = [12.8, 7.2]\n",
    "plt.rcParams[\"font.size\"] = 12\n",
    "plt.rcParams[\"axes.edgecolor\"] = \"white\"\n",
    "plt.rcParams[\"legend.frameon\"] = True\n",
    "plt.rcParams[\"legend.framealpha\"] = 0.75\n",
    "plt.rcParams[\"legend.facecolor\"] = \"white\"\n",
    "plt.rcParams[\"legend.edgecolor\"] = \"white\""
   ]
  },
  {
   "cell_type": "code",
   "execution_count": null,
   "metadata": {},
   "outputs": [],
   "source": []
  }
 ],
 "metadata": {
  "kernelspec": {
   "display_name": "Python 3",
   "language": "python",
   "name": "python3"
  },
  "language_info": {
   "codemirror_mode": {
    "name": "ipython",
    "version": 3
   },
   "file_extension": ".py",
   "mimetype": "text/x-python",
   "name": "python",
   "nbconvert_exporter": "python",
   "pygments_lexer": "ipython3",
   "version": "3.8.2"
  }
 },
 "nbformat": 4,
 "nbformat_minor": 4
}
