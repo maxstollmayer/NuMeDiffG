{
 "cells": [
  {
   "cell_type": "markdown",
   "metadata": {},
   "source": [
    "# Numerische Methoden für Differentialgleichungen"
   ]
  },
  {
   "cell_type": "markdown",
   "metadata": {},
   "source": [
    "## Aufgabenblatt 3\n",
    "*gelöst von Stollmayer Max*"
   ]
  },
  {
   "cell_type": "markdown",
   "metadata": {},
   "source": [
    "### Aufgabe 1"
   ]
  },
  {
   "cell_type": "markdown",
   "metadata": {},
   "source": [
    "Sei $y_{n+1} = y_n + h\\ \\Phi (t_n, y_n, h)$ eine explizite Ein-Schritt-Methode mit $\\Phi (t, y, h) = a_1\\ f(t,y) + a_2\\ f\\big(t+b_2\\ h,\\ y+ b_2\\ h\\ f(t,y)\\big)$ und Koeffizienten $a_1 = \\frac{1}{4},\\ a_2 = \\frac{1}{4},\\ b_2 = \\frac{2}{3}$ für das Modellproblem sei $y' = \\lambda\\ y$ mit $\\lambda > 0$.\n",
    "\n",
    "Die Folge $(y_n)_{n \\ge 0}$ ist genau dann beschränkt, wenn $-\\frac{2}{\\lambda} \\le h \\le 0$ gilt."
   ]
  },
  {
   "cell_type": "markdown",
   "metadata": {},
   "source": [
    "#### Beweis\n",
    "Für $y' = \\lambda\\ y$ ist $f(t,y) = f(y) = \\lambda\\ y$. Damit lässt sich $y_{n+1}$ explizit hinschreiben:"
   ]
  },
  {
   "cell_type": "markdown",
   "metadata": {},
   "source": [
    "\\begin{align*}\n",
    "y_{n+1} &= y_n + h\\ \\bigg(\\frac{1}{4}\\ f(y_n) + \\frac{1}{4}\\ f\\big(y_n + \\frac{2}{3}\\ h\\ f(y_n)\\big)\\bigg) \\\\\n",
    "&= y_n + \\frac{\\lambda}{4}\\ h\\ y_n + \\frac{3\\ \\lambda}{4}\\ h\\ \\big(y_n + \\frac{2\\ \\lambda}{3}\\ h\\ y_n\\big) \\\\\n",
    "&= \\big(1 + \\frac{\\lambda}{4}\\ h + \\frac{3\\ \\lambda}{4}\\ h + \\frac{\\lambda^2}{2}\\ h^2\\big)\\ y_n \\\\\n",
    "&= \\big(1 + \\lambda\\ h + \\frac{\\lambda^2}{2}\\ h^2\\big)\\ y_n \\\\\n",
    "&=\\ ... \\\\\n",
    "&= \\big(1 + \\lambda\\ h + \\frac{\\lambda^2}{2}\\ h^2\\big)^{n+1}\\ y_0\n",
    "\\end{align*}"
   ]
  },
  {
   "cell_type": "markdown",
   "metadata": {},
   "source": [
    "Die geometrische Folge $(y_n)_{n \\ge 0}$ ist nun genau dann beschränkt, wenn $|1 + \\lambda\\ h + \\frac{\\lambda^2}{2}\\ h^2| \\le 1$ gilt, also äquivalent, wenn gilt $-2 \\le \\lambda\\ h + \\frac{\\lambda^2}{2}\\ h^2 \\le 0$."
   ]
  },
  {
   "cell_type": "markdown",
   "metadata": {},
   "source": [
    "$\\bullet \\quad$ $\\frac{\\lambda^2}{2}\\ h^2 + \\lambda\\ h + 2 > 0 $ gilt für jedes $h \\in \\mathbb{R}$ und $\\lambda > 0$."
   ]
  },
  {
   "cell_type": "markdown",
   "metadata": {},
   "source": [
    "$\\bullet \\quad$ $\\frac{\\lambda^2}{2}\\ h^2 + \\lambda\\ h \\le 0 \\iff h\\ (\\frac{\\lambda}{2}\\ h + 1) \\le 0 \\iff \\begin{cases}h \\le 0 \\land \\frac{\\lambda}{2}\\ h + 1 \\ge 0 \\\\ h \\ge 0 \\land \\frac{\\lambda}{2}\\ h + 1 \\le 0 \\end{cases} \\iff h \\le 0 \\land h \\ge -\\frac{2}{\\lambda}$"
   ]
  },
  {
   "cell_type": "markdown",
   "metadata": {},
   "source": [
    "Da für $h \\ge 0$ die Ungleichung $\\frac{\\lambda}{2}\\ h + 1 \\le 0$ nicht gelten kann, ist nach einer kurzen Umformung die Behauptung $-\\frac{2}{\\lambda} \\le h \\le 0$ gezeigt.\n",
    "<div style=\"width:12px; height:12px; border:1px solid #000; margin-left:auto; margin-right:0;\"></div>"
   ]
  },
  {
   "cell_type": "markdown",
   "metadata": {},
   "source": [
    "### Aufgabe 2"
   ]
  },
  {
   "cell_type": "markdown",
   "metadata": {},
   "source": [
    "Zu implementieren ist das Crank-Nicolson-Verfahren mit der Fixpunkt-Iteration:"
   ]
  },
  {
   "cell_type": "markdown",
   "metadata": {},
   "source": [
    "\\begin{cases}\n",
    "y_{n+1}^{(k+1)} = y_n + \\frac{h}{2} \\ \\big(f(t_n, y_n) + f(t_{n+1},\\ y_{n+1}^{(k)})\\big), \\quad k \\ge 0 \\\\\n",
    "y_{n+1}^{(0)} = y_n\n",
    "\\end{cases}"
   ]
  },
  {
   "cell_type": "markdown",
   "metadata": {},
   "source": [
    "und das Rückwärts-Euler-Verfahren mit der Fixpunkt-Iteration:"
   ]
  },
  {
   "cell_type": "markdown",
   "metadata": {},
   "source": [
    "\\begin{cases}\n",
    "y_{n+1}^{(k+1)} = y_n + h \\ f(t_{n+1},\\ y_{n+1}^{(k)}), \\quad k \\ge 0 \\\\\n",
    "y_{n+1}^{(0)} = y_n\n",
    "\\end{cases}"
   ]
  },
  {
   "cell_type": "markdown",
   "metadata": {},
   "source": [
    "#### Definition"
   ]
  },
  {
   "cell_type": "code",
   "execution_count": 1,
   "metadata": {},
   "outputs": [],
   "source": [
    "import numpy as np\n",
    "from matplotlib import pyplot as plt"
   ]
  },
  {
   "cell_type": "markdown",
   "metadata": {},
   "source": [
    "# probiere in class zusammenzufassen und über die hilfsfunktion zu definieren"
   ]
  },
  {
   "cell_type": "code",
   "execution_count": 2,
   "metadata": {},
   "outputs": [],
   "source": [
    "def fixed_point_iter(f, y, *args, tol=0.001, steps=10000):\n",
    "    '''\n",
    "    Nests given function on first positional argument from starting value until desired accuracy is reached,\n",
    "    otherwise returns last y value after N steps\n",
    "    '''\n",
    "    \n",
    "    # if desired accuracy is reached, returns next value\n",
    "    if np.allclose(y, f(y, *args), atol=tol):\n",
    "        return f(y, *args)\n",
    "    \n",
    "    # returns last y value after n steps if accuracy is not reached\n",
    "    elif steps == 0:\n",
    "        print(f\"Fixed-point iteration did not converge. Last value was {y}.\")\n",
    "        return y\n",
    "    \n",
    "    else:\n",
    "        return fixed_point_iter(f, f(y, *args), *args, tol=tol, steps=steps-1)"
   ]
  },
  {
   "cell_type": "code",
   "execution_count": 19,
   "metadata": {},
   "outputs": [
    {
     "data": {
      "text/plain": [
       "array([1.        , 1.00033851, 1.00053658])"
      ]
     },
     "execution_count": 19,
     "metadata": {},
     "output_type": "execute_result"
    }
   ],
   "source": [
    "def test(y, t):\n",
    "    return t * y**0.5\n",
    "\n",
    "t0 = 1\n",
    "y0 = np.array([1,2,3])\n",
    "\n",
    "fixed_point_iter(test, y0, t0)"
   ]
  },
  {
   "cell_type": "code",
   "execution_count": 18,
   "metadata": {},
   "outputs": [
    {
     "data": {
      "text/plain": [
       "array([1, 4, 9], dtype=int32)"
      ]
     },
     "execution_count": 18,
     "metadata": {},
     "output_type": "execute_result"
    }
   ],
   "source": [
    "np.array([1,2,3])**2"
   ]
  },
  {
   "cell_type": "code",
   "execution_count": 3,
   "metadata": {},
   "outputs": [],
   "source": [
    "def backward_euler(f, y0, t0, tN, N, tol=0.001):\n",
    "    h = (tN - t0) / N # step size\n",
    "    t = t0 + h * np.arange(N+1) # grid of input values\n",
    "    y = np.array([y0]) # initialize list of function values with initial value\n",
    "    \n",
    "    # function for the fixed point iteration\n",
    "    def g(z, x, c):\n",
    "        return c + h * f(z, x)\n",
    "    \n",
    "    for n in range(0, N):\n",
    "        new = fixed_point_iter(g, y[n], t[n+1], y[n], tol=tol) # fixed point iteration to find next value\n",
    "        y = np.append(y, new) # append new value to list\n",
    "        \n",
    "    return t, y"
   ]
  },
  {
   "cell_type": "code",
   "execution_count": 4,
   "metadata": {},
   "outputs": [],
   "source": [
    "def crank_nicolson(f, y0, t0, tN, N, tol=0.001):\n",
    "    h = (tN - t0) / N # step size\n",
    "    t = t0 + h * np.arange(N+1) # grid of input values\n",
    "    y = np.array([y0]) # initialize list of function values with initial value\n",
    "    \n",
    "    # function for the fixed point iteration\n",
    "    def g(z, xn, xn1, yn):\n",
    "        return yn + h/2 * (f(yn, t[n-1]) + f(z, t[n]))\n",
    "\n",
    "    for n in range(1, N+1):\n",
    "        new = fixed_point_iter(g, y[n-1], t[n-1], t[n], y[n-1], tol=tol)\n",
    "        y = np.append(y, new)\n",
    "    \n",
    "    return t, y"
   ]
  },
  {
   "cell_type": "markdown",
   "metadata": {},
   "source": [
    "#### Test 1"
   ]
  },
  {
   "cell_type": "code",
   "execution_count": 5,
   "metadata": {},
   "outputs": [],
   "source": [
    "def f1(y, t):\n",
    "    return y\n",
    "\n",
    "y0 = 1\n",
    "t0 = 1\n",
    "tN = 4\n",
    "N = 10"
   ]
  },
  {
   "cell_type": "code",
   "execution_count": 6,
   "metadata": {},
   "outputs": [
    {
     "name": "stdout",
     "output_type": "stream",
     "text": [
      "y(1.00) = 1.00\n",
      "y(1.30) = 1.43\n",
      "y(1.60) = 2.04\n",
      "y(1.90) = 2.91\n",
      "y(2.20) = 4.16\n",
      "y(2.50) = 5.95\n",
      "y(2.80) = 8.50\n",
      "y(3.10) = 12.14\n",
      "y(3.40) = 17.34\n",
      "y(3.70) = 24.77\n",
      "y(4.00) = 35.38\n"
     ]
    }
   ],
   "source": [
    "t1, y1 = backward_euler(f1, y0, t0, tN, N)\n",
    "for v in zip(t1, y1):\n",
    "    print(f\"y({v[0]:.2f}) = {v[1]:.2f}\")"
   ]
  },
  {
   "cell_type": "code",
   "execution_count": 7,
   "metadata": {},
   "outputs": [
    {
     "name": "stdout",
     "output_type": "stream",
     "text": [
      "y(1.00) = 1.00\n",
      "y(1.30) = 1.35\n",
      "y(1.60) = 1.83\n",
      "y(1.90) = 2.48\n",
      "y(2.20) = 3.35\n",
      "y(2.50) = 4.53\n",
      "y(2.80) = 6.13\n",
      "y(3.10) = 8.30\n",
      "y(3.40) = 11.22\n",
      "y(3.70) = 15.18\n",
      "y(4.00) = 20.54\n"
     ]
    }
   ],
   "source": [
    "t2, y2 = crank_nicolson(f1, y0, t0, tN, N)\n",
    "for v in zip(t2, y2):\n",
    "    print(f\"y({v[0]:.2f}) = {v[1]:.2f}\")"
   ]
  },
  {
   "cell_type": "markdown",
   "metadata": {},
   "source": [
    "##### Method comparison"
   ]
  },
  {
   "cell_type": "code",
   "execution_count": 8,
   "metadata": {},
   "outputs": [],
   "source": [
    "def forward_euler(f, y0, t0, tN, N):\n",
    "    '''Returns a list of input values and corresponding function values approximated with the forward Euler method'''\n",
    "    h = (tN - t0) / N           # increment size\n",
    "    t = t0 + h * np.arange(N+1) # grid of input values\n",
    "    y = np.array([y0])          # initializes list with starting value\n",
    "    for n in range(1, N+1):\n",
    "        y = np.append(y, [y[n-1] + h * f(t[n-1], y[n-1])], axis = 0) # appends newly calculated value to the list\n",
    "    return t, y"
   ]
  },
  {
   "cell_type": "code",
   "execution_count": 11,
   "metadata": {},
   "outputs": [
    {
     "data": {
      "text/plain": [
       "<matplotlib.legend.Legend at 0x1bf0ecec190>"
      ]
     },
     "execution_count": 11,
     "metadata": {},
     "output_type": "execute_result"
    },
    {
     "data": {
      "image/png": "[encoded data removed]",
      "text/plain": [
       "<Figure size 432x288 with 1 Axes>"
      ]
     },
     "metadata": {
      "needs_background": "light"
     },
     "output_type": "display_data"
    }
   ],
   "source": [
    "t3, y3 = forward_euler(f1, y0, t0, tN, N)\n",
    "t4 = np.linspace(1, 4, 30)\n",
    "y4 = np.exp(t4 - 1)\n",
    "\n",
    "plt.plot(t4, y4, \"g\", label = \"exact\")\n",
    "plt.plot(t3, y3, \"o\", label = \"forward euler\")\n",
    "plt.plot(t1, y1, \"o\", label = \"backward euler\")\n",
    "plt.plot(t2, y2, \"ro\", label = \"crank-nicolson\")\n",
    "plt.legend()"
   ]
  },
  {
   "cell_type": "markdown",
   "metadata": {},
   "source": [
    "#### Test 2"
   ]
  },
  {
   "cell_type": "code",
   "execution_count": 14,
   "metadata": {},
   "outputs": [
    {
     "ename": "IndexError",
     "evalue": "invalid index to scalar variable.",
     "output_type": "error",
     "traceback": [
      "\u001b[1;31m---------------------------------------------------------------------------\u001b[0m",
      "\u001b[1;31mIndexError\u001b[0m                                Traceback (most recent call last)",
      "\u001b[1;32m<ipython-input-14-3f69d52c4336>\u001b[0m in \u001b[0;36m<module>\u001b[1;34m\u001b[0m\n\u001b[0;32m      5\u001b[0m     \u001b[1;32mreturn\u001b[0m \u001b[0mg\u001b[0m\u001b[1;33m(\u001b[0m\u001b[0mt\u001b[0m\u001b[1;33m,\u001b[0m \u001b[0my\u001b[0m\u001b[1;33m,\u001b[0m \u001b[1;36m1\u001b[0m\u001b[1;33m,\u001b[0m \u001b[1;36m0.1\u001b[0m\u001b[1;33m,\u001b[0m \u001b[1;36m4\u001b[0m\u001b[1;33m,\u001b[0m \u001b[1;36m1\u001b[0m\u001b[1;33m)\u001b[0m\u001b[1;33m\u001b[0m\u001b[1;33m\u001b[0m\u001b[0m\n\u001b[0;32m      6\u001b[0m \u001b[1;33m\u001b[0m\u001b[0m\n\u001b[1;32m----> 7\u001b[1;33m \u001b[0mt\u001b[0m\u001b[1;33m,\u001b[0m \u001b[0my\u001b[0m \u001b[1;33m=\u001b[0m \u001b[0mbackward_euler\u001b[0m\u001b[1;33m(\u001b[0m\u001b[0mf2\u001b[0m\u001b[1;33m,\u001b[0m \u001b[0mnp\u001b[0m\u001b[1;33m.\u001b[0m\u001b[0marray\u001b[0m\u001b[1;33m(\u001b[0m\u001b[1;33m[\u001b[0m\u001b[1;36m3\u001b[0m\u001b[1;33m,\u001b[0m\u001b[1;36m5\u001b[0m\u001b[1;33m]\u001b[0m\u001b[1;33m)\u001b[0m\u001b[1;33m,\u001b[0m \u001b[1;36m0\u001b[0m\u001b[1;33m,\u001b[0m \u001b[1;36m10\u001b[0m\u001b[1;33m,\u001b[0m \u001b[1;36m10\u001b[0m\u001b[1;33m)\u001b[0m\u001b[1;33m\u001b[0m\u001b[1;33m\u001b[0m\u001b[0m\n\u001b[0m\u001b[0;32m      8\u001b[0m \u001b[1;31m#for x, z in zip(t, y):\u001b[0m\u001b[1;33m\u001b[0m\u001b[1;33m\u001b[0m\u001b[1;33m\u001b[0m\u001b[0m\n\u001b[0;32m      9\u001b[0m \u001b[1;31m#    print(f\"t = {x:2n}:  {z[0]: .2E} Räuber,  {z[1]: .2E} Beute\")\u001b[0m\u001b[1;33m\u001b[0m\u001b[1;33m\u001b[0m\u001b[1;33m\u001b[0m\u001b[0m\n",
      "\u001b[1;32m<ipython-input-3-0f0ac73f495a>\u001b[0m in \u001b[0;36mbackward_euler\u001b[1;34m(f, y0, t0, tN, N, tol)\u001b[0m\n\u001b[0;32m      9\u001b[0m \u001b[1;33m\u001b[0m\u001b[0m\n\u001b[0;32m     10\u001b[0m     \u001b[1;32mfor\u001b[0m \u001b[0mn\u001b[0m \u001b[1;32min\u001b[0m \u001b[0mrange\u001b[0m\u001b[1;33m(\u001b[0m\u001b[1;36m0\u001b[0m\u001b[1;33m,\u001b[0m \u001b[0mN\u001b[0m\u001b[1;33m)\u001b[0m\u001b[1;33m:\u001b[0m\u001b[1;33m\u001b[0m\u001b[1;33m\u001b[0m\u001b[0m\n\u001b[1;32m---> 11\u001b[1;33m         \u001b[0mnew\u001b[0m \u001b[1;33m=\u001b[0m \u001b[0mfixed_point_iter\u001b[0m\u001b[1;33m(\u001b[0m\u001b[0mg\u001b[0m\u001b[1;33m,\u001b[0m \u001b[0my\u001b[0m\u001b[1;33m[\u001b[0m\u001b[0mn\u001b[0m\u001b[1;33m]\u001b[0m\u001b[1;33m,\u001b[0m \u001b[0mt\u001b[0m\u001b[1;33m[\u001b[0m\u001b[0mn\u001b[0m\u001b[1;33m+\u001b[0m\u001b[1;36m1\u001b[0m\u001b[1;33m]\u001b[0m\u001b[1;33m,\u001b[0m \u001b[0my\u001b[0m\u001b[1;33m[\u001b[0m\u001b[0mn\u001b[0m\u001b[1;33m]\u001b[0m\u001b[1;33m,\u001b[0m \u001b[0mtol\u001b[0m\u001b[1;33m=\u001b[0m\u001b[0mtol\u001b[0m\u001b[1;33m)\u001b[0m \u001b[1;31m# fixed point iteration to find next value\u001b[0m\u001b[1;33m\u001b[0m\u001b[1;33m\u001b[0m\u001b[0m\n\u001b[0m\u001b[0;32m     12\u001b[0m         \u001b[0my\u001b[0m \u001b[1;33m=\u001b[0m \u001b[0mnp\u001b[0m\u001b[1;33m.\u001b[0m\u001b[0mappend\u001b[0m\u001b[1;33m(\u001b[0m\u001b[0my\u001b[0m\u001b[1;33m,\u001b[0m \u001b[0mnew\u001b[0m\u001b[1;33m)\u001b[0m \u001b[1;31m# append new value to list\u001b[0m\u001b[1;33m\u001b[0m\u001b[1;33m\u001b[0m\u001b[0m\n\u001b[0;32m     13\u001b[0m \u001b[1;33m\u001b[0m\u001b[0m\n",
      "\u001b[1;32m<ipython-input-2-e173a87614ed>\u001b[0m in \u001b[0;36mfixed_point_iter\u001b[1;34m(f, y, tol, steps, *args)\u001b[0m\n\u001b[0;32m      6\u001b[0m \u001b[1;33m\u001b[0m\u001b[0m\n\u001b[0;32m      7\u001b[0m     \u001b[1;31m# if desired accuracy is reached, returns next value\u001b[0m\u001b[1;33m\u001b[0m\u001b[1;33m\u001b[0m\u001b[1;33m\u001b[0m\u001b[0m\n\u001b[1;32m----> 8\u001b[1;33m     \u001b[1;32mif\u001b[0m \u001b[0mnp\u001b[0m\u001b[1;33m.\u001b[0m\u001b[0mallclose\u001b[0m\u001b[1;33m(\u001b[0m\u001b[0my\u001b[0m\u001b[1;33m,\u001b[0m \u001b[0mf\u001b[0m\u001b[1;33m(\u001b[0m\u001b[0my\u001b[0m\u001b[1;33m,\u001b[0m \u001b[1;33m*\u001b[0m\u001b[0margs\u001b[0m\u001b[1;33m)\u001b[0m\u001b[1;33m,\u001b[0m \u001b[0matol\u001b[0m\u001b[1;33m=\u001b[0m\u001b[0mtol\u001b[0m\u001b[1;33m)\u001b[0m\u001b[1;33m:\u001b[0m\u001b[1;33m\u001b[0m\u001b[1;33m\u001b[0m\u001b[0m\n\u001b[0m\u001b[0;32m      9\u001b[0m         \u001b[1;32mreturn\u001b[0m \u001b[0mf\u001b[0m\u001b[1;33m(\u001b[0m\u001b[0my\u001b[0m\u001b[1;33m,\u001b[0m \u001b[1;33m*\u001b[0m\u001b[0margs\u001b[0m\u001b[1;33m)\u001b[0m\u001b[1;33m\u001b[0m\u001b[1;33m\u001b[0m\u001b[0m\n\u001b[0;32m     10\u001b[0m \u001b[1;33m\u001b[0m\u001b[0m\n",
      "\u001b[1;32m<ipython-input-3-0f0ac73f495a>\u001b[0m in \u001b[0;36mg\u001b[1;34m(z, x, c)\u001b[0m\n\u001b[0;32m      6\u001b[0m     \u001b[1;31m# function for the fixed point iteration\u001b[0m\u001b[1;33m\u001b[0m\u001b[1;33m\u001b[0m\u001b[1;33m\u001b[0m\u001b[0m\n\u001b[0;32m      7\u001b[0m     \u001b[1;32mdef\u001b[0m \u001b[0mg\u001b[0m\u001b[1;33m(\u001b[0m\u001b[0mz\u001b[0m\u001b[1;33m,\u001b[0m \u001b[0mx\u001b[0m\u001b[1;33m,\u001b[0m \u001b[0mc\u001b[0m\u001b[1;33m)\u001b[0m\u001b[1;33m:\u001b[0m\u001b[1;33m\u001b[0m\u001b[1;33m\u001b[0m\u001b[0m\n\u001b[1;32m----> 8\u001b[1;33m         \u001b[1;32mreturn\u001b[0m \u001b[0mc\u001b[0m \u001b[1;33m+\u001b[0m \u001b[0mh\u001b[0m \u001b[1;33m*\u001b[0m \u001b[0mf\u001b[0m\u001b[1;33m(\u001b[0m\u001b[0mz\u001b[0m\u001b[1;33m,\u001b[0m \u001b[0mx\u001b[0m\u001b[1;33m)\u001b[0m\u001b[1;33m\u001b[0m\u001b[1;33m\u001b[0m\u001b[0m\n\u001b[0m\u001b[0;32m      9\u001b[0m \u001b[1;33m\u001b[0m\u001b[0m\n\u001b[0;32m     10\u001b[0m     \u001b[1;32mfor\u001b[0m \u001b[0mn\u001b[0m \u001b[1;32min\u001b[0m \u001b[0mrange\u001b[0m\u001b[1;33m(\u001b[0m\u001b[1;36m0\u001b[0m\u001b[1;33m,\u001b[0m \u001b[0mN\u001b[0m\u001b[1;33m)\u001b[0m\u001b[1;33m:\u001b[0m\u001b[1;33m\u001b[0m\u001b[1;33m\u001b[0m\u001b[0m\n",
      "\u001b[1;32m<ipython-input-14-3f69d52c4336>\u001b[0m in \u001b[0;36mf2\u001b[1;34m(t, y)\u001b[0m\n\u001b[0;32m      3\u001b[0m \u001b[1;33m\u001b[0m\u001b[0m\n\u001b[0;32m      4\u001b[0m \u001b[1;32mdef\u001b[0m \u001b[0mf2\u001b[0m\u001b[1;33m(\u001b[0m\u001b[0mt\u001b[0m\u001b[1;33m,\u001b[0m\u001b[0my\u001b[0m\u001b[1;33m)\u001b[0m\u001b[1;33m:\u001b[0m\u001b[1;33m\u001b[0m\u001b[1;33m\u001b[0m\u001b[0m\n\u001b[1;32m----> 5\u001b[1;33m     \u001b[1;32mreturn\u001b[0m \u001b[0mg\u001b[0m\u001b[1;33m(\u001b[0m\u001b[0mt\u001b[0m\u001b[1;33m,\u001b[0m \u001b[0my\u001b[0m\u001b[1;33m,\u001b[0m \u001b[1;36m1\u001b[0m\u001b[1;33m,\u001b[0m \u001b[1;36m0.1\u001b[0m\u001b[1;33m,\u001b[0m \u001b[1;36m4\u001b[0m\u001b[1;33m,\u001b[0m \u001b[1;36m1\u001b[0m\u001b[1;33m)\u001b[0m\u001b[1;33m\u001b[0m\u001b[1;33m\u001b[0m\u001b[0m\n\u001b[0m\u001b[0;32m      6\u001b[0m \u001b[1;33m\u001b[0m\u001b[0m\n\u001b[0;32m      7\u001b[0m \u001b[0mt\u001b[0m\u001b[1;33m,\u001b[0m \u001b[0my\u001b[0m \u001b[1;33m=\u001b[0m \u001b[0mbackward_euler\u001b[0m\u001b[1;33m(\u001b[0m\u001b[0mf2\u001b[0m\u001b[1;33m,\u001b[0m \u001b[0mnp\u001b[0m\u001b[1;33m.\u001b[0m\u001b[0marray\u001b[0m\u001b[1;33m(\u001b[0m\u001b[1;33m[\u001b[0m\u001b[1;36m3\u001b[0m\u001b[1;33m,\u001b[0m\u001b[1;36m5\u001b[0m\u001b[1;33m]\u001b[0m\u001b[1;33m)\u001b[0m\u001b[1;33m,\u001b[0m \u001b[1;36m0\u001b[0m\u001b[1;33m,\u001b[0m \u001b[1;36m10\u001b[0m\u001b[1;33m,\u001b[0m \u001b[1;36m10\u001b[0m\u001b[1;33m)\u001b[0m\u001b[1;33m\u001b[0m\u001b[1;33m\u001b[0m\u001b[0m\n",
      "\u001b[1;32m<ipython-input-14-3f69d52c4336>\u001b[0m in \u001b[0;36mg\u001b[1;34m(t, y, a, b, c, d)\u001b[0m\n\u001b[0;32m      1\u001b[0m \u001b[1;32mdef\u001b[0m \u001b[0mg\u001b[0m\u001b[1;33m(\u001b[0m\u001b[0mt\u001b[0m\u001b[1;33m,\u001b[0m \u001b[0my\u001b[0m\u001b[1;33m,\u001b[0m \u001b[0ma\u001b[0m\u001b[1;33m,\u001b[0m \u001b[0mb\u001b[0m\u001b[1;33m,\u001b[0m \u001b[0mc\u001b[0m\u001b[1;33m,\u001b[0m \u001b[0md\u001b[0m\u001b[1;33m)\u001b[0m\u001b[1;33m:\u001b[0m\u001b[1;33m\u001b[0m\u001b[1;33m\u001b[0m\u001b[0m\n\u001b[1;32m----> 2\u001b[1;33m     \u001b[1;32mreturn\u001b[0m \u001b[0mnp\u001b[0m\u001b[1;33m.\u001b[0m\u001b[0marray\u001b[0m\u001b[1;33m(\u001b[0m\u001b[1;33m[\u001b[0m\u001b[1;33m-\u001b[0m\u001b[1;33m(\u001b[0m\u001b[0ma\u001b[0m \u001b[1;33m-\u001b[0m \u001b[0mb\u001b[0m \u001b[1;33m*\u001b[0m \u001b[0my\u001b[0m\u001b[1;33m[\u001b[0m\u001b[1;36m1\u001b[0m\u001b[1;33m]\u001b[0m\u001b[1;33m)\u001b[0m \u001b[1;33m*\u001b[0m \u001b[0my\u001b[0m\u001b[1;33m[\u001b[0m\u001b[1;36m0\u001b[0m\u001b[1;33m]\u001b[0m\u001b[1;33m,\u001b[0m \u001b[1;33m(\u001b[0m\u001b[0mc\u001b[0m \u001b[1;33m-\u001b[0m \u001b[0md\u001b[0m \u001b[1;33m*\u001b[0m \u001b[0my\u001b[0m\u001b[1;33m[\u001b[0m\u001b[1;36m0\u001b[0m\u001b[1;33m]\u001b[0m\u001b[1;33m)\u001b[0m \u001b[1;33m*\u001b[0m\u001b[0my\u001b[0m\u001b[1;33m[\u001b[0m\u001b[1;36m1\u001b[0m\u001b[1;33m]\u001b[0m\u001b[1;33m]\u001b[0m\u001b[1;33m)\u001b[0m\u001b[1;33m\u001b[0m\u001b[1;33m\u001b[0m\u001b[0m\n\u001b[0m\u001b[0;32m      3\u001b[0m \u001b[1;33m\u001b[0m\u001b[0m\n\u001b[0;32m      4\u001b[0m \u001b[1;32mdef\u001b[0m \u001b[0mf2\u001b[0m\u001b[1;33m(\u001b[0m\u001b[0mt\u001b[0m\u001b[1;33m,\u001b[0m\u001b[0my\u001b[0m\u001b[1;33m)\u001b[0m\u001b[1;33m:\u001b[0m\u001b[1;33m\u001b[0m\u001b[1;33m\u001b[0m\u001b[0m\n\u001b[0;32m      5\u001b[0m     \u001b[1;32mreturn\u001b[0m \u001b[0mg\u001b[0m\u001b[1;33m(\u001b[0m\u001b[0mt\u001b[0m\u001b[1;33m,\u001b[0m \u001b[0my\u001b[0m\u001b[1;33m,\u001b[0m \u001b[1;36m1\u001b[0m\u001b[1;33m,\u001b[0m \u001b[1;36m0.1\u001b[0m\u001b[1;33m,\u001b[0m \u001b[1;36m4\u001b[0m\u001b[1;33m,\u001b[0m \u001b[1;36m1\u001b[0m\u001b[1;33m)\u001b[0m\u001b[1;33m\u001b[0m\u001b[1;33m\u001b[0m\u001b[0m\n",
      "\u001b[1;31mIndexError\u001b[0m: invalid index to scalar variable."
     ]
    }
   ],
   "source": [
    "def g(t, y, a, b, c, d):\n",
    "    return np.array([-(a - b * y[1]) * y[0], (c - d * y[0]) *y[1]])\n",
    "\n",
    "def f2(t,y):\n",
    "    return g(t, y, 1, 0.1, 4, 1)\n",
    "\n",
    "t, y = backward_euler(f2, np.array([3,5]), 0, 10, 10)\n",
    "#for x, z in zip(t, y):\n",
    "#    print(f\"t = {x:2n}:  {z[0]: .2E} Räuber,  {z[1]: .2E} Beute\")"
   ]
  },
  {
   "cell_type": "code",
   "execution_count": null,
   "metadata": {},
   "outputs": [],
   "source": [
    "print(f(1,[2,3]))"
   ]
  },
  {
   "cell_type": "code",
   "execution_count": null,
   "metadata": {},
   "outputs": [],
   "source": []
  }
 ],
 "metadata": {
  "kernelspec": {
   "display_name": "Python 3",
   "language": "python",
   "name": "python3"
  },
  "language_info": {
   "codemirror_mode": {
    "name": "ipython",
    "version": 3
   },
   "file_extension": ".py",
   "mimetype": "text/x-python",
   "name": "python",
   "nbconvert_exporter": "python",
   "pygments_lexer": "ipython3",
   "version": "3.8.2"
  }
 },
 "nbformat": 4,
 "nbformat_minor": 4
}
