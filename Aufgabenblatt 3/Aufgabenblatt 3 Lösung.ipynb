{
 "cells": [
  {
   "cell_type": "markdown",
   "metadata": {},
   "source": [
    "# Numerische Methoden für Differentialgleichungen"
   ]
  },
  {
   "cell_type": "markdown",
   "metadata": {},
   "source": [
    "## Aufgabenblatt 3\n",
    "*gelöst von Stollmayer Max*"
   ]
  },
  {
   "cell_type": "markdown",
   "metadata": {},
   "source": [
    "### Aufgabe 1"
   ]
  },
  {
   "cell_type": "markdown",
   "metadata": {},
   "source": [
    "Sei $y_{n+1} = y_n + h\\ \\Phi (t_n, y_n, h)$ eine explizite Ein-Schritt-Methode mit $\\Phi (t, y, h) = a_1\\ f(t,y) + a_2\\ f\\big(t+b_2\\ h,\\ y+ b_2\\ h\\ f(t,y)\\big)$ und Koeffizienten $a_1 = \\frac{1}{4},\\ a_2 = \\frac{1}{4},\\ b_2 = \\frac{2}{3}$ für das Modellproblem sei $y' = \\lambda\\ y$ mit $\\lambda > 0$.\n",
    "\n",
    "Die Folge $(y_n)_{n \\ge 0}$ ist genau dann beschränkt, wenn $-\\frac{2}{\\lambda} \\le h \\le 0$ gilt."
   ]
  },
  {
   "cell_type": "markdown",
   "metadata": {},
   "source": [
    "#### Beweis\n",
    "Für $y' = \\lambda\\ y$ ist $f(t,y) = f(y) = \\lambda\\ y$. Damit lässt sich $y_{n+1}$ explizit hinschreiben:"
   ]
  },
  {
   "cell_type": "markdown",
   "metadata": {},
   "source": [
    "\\begin{align*}\n",
    "y_{n+1} &= y_n + h\\ \\bigg(\\frac{1}{4}\\ f(y_n) + \\frac{1}{4}\\ f\\big(y_n + \\frac{2}{3}\\ h\\ f(y_n)\\big)\\bigg) \\\\\n",
    "&= y_n + \\frac{\\lambda}{4}\\ h\\ y_n + \\frac{3\\ \\lambda}{4}\\ h\\ \\big(y_n + \\frac{2\\ \\lambda}{3}\\ h\\ y_n\\big) \\\\\n",
    "&= \\big(1 + \\frac{\\lambda}{4}\\ h + \\frac{3\\ \\lambda}{4}\\ h + \\frac{\\lambda^2}{2}\\ h^2\\big)\\ y_n \\\\\n",
    "&= \\big(1 + \\lambda\\ h + \\frac{\\lambda^2}{2}\\ h^2\\big)\\ y_n \\\\\n",
    "&=\\ ... \\\\\n",
    "&= \\big(1 + \\lambda\\ h + \\frac{\\lambda^2}{2}\\ h^2\\big)^{n+1}\\ y_0\n",
    "\\end{align*}"
   ]
  },
  {
   "cell_type": "markdown",
   "metadata": {},
   "source": [
    "Die geometrische Folge $(y_n)_{n \\ge 0}$ ist nun genau dann beschränkt, wenn $|1 + \\lambda\\ h + \\frac{\\lambda^2}{2}\\ h^2| \\le 1$ gilt, also äquivalent, wenn gilt $-2 \\le \\lambda\\ h + \\frac{\\lambda^2}{2}\\ h^2 \\le 0$."
   ]
  },
  {
   "cell_type": "markdown",
   "metadata": {},
   "source": [
    "$\\bullet \\quad$ $\\frac{\\lambda^2}{2}\\ h^2 + \\lambda\\ h + 2 > 0 $ gilt für jedes $h \\in \\mathbb{R}$ und $\\lambda > 0$."
   ]
  },
  {
   "cell_type": "markdown",
   "metadata": {},
   "source": [
    "$\\bullet \\quad$ $\\frac{\\lambda^2}{2}\\ h^2 + \\lambda\\ h \\le 0 \\iff h\\ (\\frac{\\lambda}{2}\\ h + 1) \\le 0 \\iff \\begin{cases}h \\le 0 \\land \\frac{\\lambda}{2}\\ h + 1 \\ge 0 \\\\ h \\ge 0 \\land \\frac{\\lambda}{2}\\ h + 1 \\le 0 \\end{cases} \\iff h \\le 0 \\land h \\ge -\\frac{2}{\\lambda}$"
   ]
  },
  {
   "cell_type": "markdown",
   "metadata": {},
   "source": [
    "Da für $h \\ge 0$ die Ungleichung $\\frac{\\lambda}{2}\\ h + 1 \\le 0$ nicht gelten kann, ist nach einer kurzen Umformung die Behauptung $-\\frac{2}{\\lambda} \\le h \\le 0$ gezeigt.\n",
    "<div style=\"width:12px; height:12px; border:1px solid #000; margin-left:auto; margin-right:0;\"></div>"
   ]
  },
  {
   "cell_type": "markdown",
   "metadata": {},
   "source": [
    "### Aufgabe 2"
   ]
  },
  {
   "cell_type": "markdown",
   "metadata": {},
   "source": [
    "Zu implementieren ist das Crank-Nicolson-Verfahren mit der Fixpunkt-Iteration:"
   ]
  },
  {
   "cell_type": "markdown",
   "metadata": {},
   "source": [
    "\\begin{cases}\n",
    "y_{n+1}^{(k+1)} = y_n + \\frac{h}{2} \\ \\big(f(t_n, y_n) + f(t_{n+1},\\ y_{n+1}^{(k)})\\big), \\quad k \\ge 0 \\\\\n",
    "y_{n+1}^{(0)} = y_n\n",
    "\\end{cases}"
   ]
  },
  {
   "cell_type": "markdown",
   "metadata": {},
   "source": [
    "und das Rückwärts-Euler-Verfahren mit der Fixpunkt-Iteration:"
   ]
  },
  {
   "cell_type": "markdown",
   "metadata": {},
   "source": [
    "\\begin{cases}\n",
    "y_{n+1}^{(k+1)} = y_n + h \\ f(t_{n+1},\\ y_{n+1}^{(k)}), \\quad k \\ge 0 \\\\\n",
    "y_{n+1}^{(0)} = y_n\n",
    "\\end{cases}"
   ]
  },
  {
   "cell_type": "markdown",
   "metadata": {},
   "source": [
    "#### Definition"
   ]
  },
  {
   "cell_type": "code",
   "execution_count": 1,
   "metadata": {},
   "outputs": [],
   "source": [
    "import numpy as np\n",
    "from matplotlib import pyplot as plt\n",
    "plt.style.use(\"seaborn\")"
   ]
  },
  {
   "cell_type": "markdown",
   "metadata": {},
   "source": [
    "# probiere in class zusammenzufassen und über die hilfsfunktion zu definieren"
   ]
  },
  {
   "cell_type": "code",
   "execution_count": 2,
   "metadata": {},
   "outputs": [],
   "source": [
    "def forward_euler(f, y0, t0, tN, N):\n",
    "    '''\n",
    "    Returns list of input values and list of corresponding function values approximated with the forward Euler method\n",
    "    \n",
    "    f is the function of the ODE y' = f(y, t)\n",
    "    t0 and tN are the boundaries of the interval [t0, tN], which is divided into N+1 steps\n",
    "    y0 is the initial condition y(t0) = y0\n",
    "    '''\n",
    "    \n",
    "    # step size\n",
    "    h = (tN - t0) / N\n",
    "    \n",
    "    # list of input values with step size h\n",
    "    t = t0 + h * np.arange(N+1)\n",
    "    \n",
    "    # array of function vectors starting with the initial value\n",
    "    y = np.array([y0])\n",
    "    \n",
    "    # loop to generate function values with forward euler method\n",
    "    for n in range(0, N):\n",
    "        new = y[n] + h * f(y[n], t[n])\n",
    "        y = np.append(y, [new], axis=0)\n",
    "    \n",
    "    return t, y"
   ]
  },
  {
   "cell_type": "code",
   "execution_count": 62,
   "metadata": {},
   "outputs": [],
   "source": [
    "def fixed_point_iter(f, y, *args, tol=0.01, steps=100):\n",
    "    '''\n",
    "    Nests given function f on first positional argument y from starting value until desired accuracy is reached,\n",
    "    otherwise returns last y value after N steps\n",
    "    '''\n",
    "    \n",
    "    # compute new value\n",
    "    new = f(y, *args)\n",
    "    \n",
    "    # if desired accuracy is reached, returns new value\n",
    "    if np.allclose(y, new, atol=tol):\n",
    "        return new\n",
    "    \n",
    "    # returns last y value after n steps if accuracy is not reached\n",
    "    elif steps == 0:\n",
    "        print(f\"Fixed-point iteration did not converge for {f}.\")\n",
    "        return y\n",
    "    \n",
    "    # if neither accuracy nor step limit is reached then the iteration continues recursively\n",
    "    else:\n",
    "        return fixed_point_iter(f, new, *args, tol=tol, steps=steps-1)"
   ]
  },
  {
   "cell_type": "code",
   "execution_count": 4,
   "metadata": {},
   "outputs": [],
   "source": [
    "def backward_euler(f, y0, t0, tN, N, tol=0.001):\n",
    "    '''\n",
    "    Returns list of input values and list of corresponding function values approximated with the backward Euler method\n",
    "    \n",
    "    f is the function of the ODE y' = f(y, t)\n",
    "    t0 and tN are the boundaries of the interval [t0, tN], which is divided into N+1 steps\n",
    "    y0 is the initial condition y(t0) = y0\n",
    "    tol is the tolerance for convergence of the fixed point iteration\n",
    "    '''\n",
    "    # step size\n",
    "    h = (tN - t0) / N\n",
    "    \n",
    "    # list of input values with step size h\n",
    "    t = t0 + h * np.arange(N+1)\n",
    "    \n",
    "    # array of function vectors starting with the initial value\n",
    "    y = np.array([y0])\n",
    "    \n",
    "    # function for the fixed point iteration according to the backward Euler method\n",
    "    # y_iter is the value that gets iterated, t_n and y_n are static in the fixed point iteration\n",
    "    def g(y_iter, t_n, y_n):\n",
    "        return y_n + h * f(y_iter, t_n)\n",
    "    \n",
    "    # loop to calculate values for all inputs t\n",
    "    # for every n a fixed point iteration is applied to find approximation for next y value\n",
    "    for n in range(0, N):\n",
    "        new = fixed_point_iter(g, y[n], t[n], y[n], tol=tol)\n",
    "        y = np.append(y, [new], axis=0)\n",
    "        \n",
    "    return t, y"
   ]
  },
  {
   "cell_type": "code",
   "execution_count": 5,
   "metadata": {},
   "outputs": [],
   "source": [
    "def crank_nicolson(f, y0, t0, tN, N, tol=0.001):\n",
    "    '''\n",
    "    Returns list of input values and list of corresponding function values approximated with the Crank-Nicolson method\n",
    "    \n",
    "    f is the function of the ODE y' = f(y, t)\n",
    "    t0 and tN are the boundaries of the interval [t0, tN], which is divided into N+1 steps\n",
    "    y0 is the initial condition y(t0) = y0\n",
    "    tol is the tolerance for convergence of the fixed point iteration\n",
    "    '''\n",
    "    \n",
    "    # step size\n",
    "    h = (tN - t0) / N\n",
    "    \n",
    "    # list of input values with step size h\n",
    "    t = t0 + h * np.arange(N+1)\n",
    "    \n",
    "    # array of function vectors starting with the initial value\n",
    "    y = np.array([y0])\n",
    "    \n",
    "    # function for the fixed point iteration according to the Crank-Nicolson method\n",
    "    # y_iter gets iterated, t_next, y_n, t_n are static in the fixed point iteration\n",
    "    def g(y_iter, t_next, y_n, t_n):\n",
    "        return y_n + h/2 * (f(y_n, t_n) + f(y_iter, t_next))\n",
    "\n",
    "    # loop to calculate values for all inputs t\n",
    "    # for every n a fixed point iteration is applied to find approximation for next y value\n",
    "    for n in range(0, N):\n",
    "        new = fixed_point_iter(g, y[n], t[n+1], y[n], t[n], tol=tol)\n",
    "        y = np.append(y, [new], axis=0)\n",
    "    \n",
    "    return t, y"
   ]
  },
  {
   "cell_type": "markdown",
   "metadata": {},
   "source": [
    "#### Test 1"
   ]
  },
  {
   "cell_type": "code",
   "execution_count": 6,
   "metadata": {},
   "outputs": [],
   "source": [
    "def f1(y, t):\n",
    "    return y\n",
    "\n",
    "y1_0 = 1\n",
    "t1_0 = 1\n",
    "t1_N = 4\n",
    "N1 = 10"
   ]
  },
  {
   "cell_type": "code",
   "execution_count": 43,
   "metadata": {},
   "outputs": [
    {
     "name": "stdout",
     "output_type": "stream",
     "text": [
      "Steps:\t\t\t 1.00 |  1.30 |  1.60 |  1.90 |  2.20 |  2.50 |  2.80 |  3.10 |  3.40 |  3.70 |  4.00\n",
      "Forward Euler method:\t 1.00 |  1.30 |  1.69 |  2.20 |  2.86 |  3.71 |  4.83 |  6.27 |  8.16 | 10.60 | 13.79\n",
      "Backward Euler method:\t 1.00 |  1.43 |  2.04 |  2.91 |  4.16 |  5.95 |  8.50 | 12.14 | 17.34 | 24.77 | 35.38\n",
      "Crank-Nicolson method:\t 1.00 |  1.35 |  1.83 |  2.48 |  3.35 |  4.53 |  6.13 |  8.30 | 11.22 | 15.18 | 20.54\n"
     ]
    }
   ],
   "source": [
    "t1_fe, y1_fe = forward_euler(f1, y1_0, t1_0, t1_N, N1)\n",
    "t1_be, y1_be = backward_euler(f1, y1_0, t1_0, t1_N, N1)\n",
    "t1_cn, y1_cn = crank_nicolson(f1, y1_0, t1_0, t1_N, N1)\n",
    "\n",
    "print(\"Steps:\", end=\"\\t\\t\\t\")\n",
    "print(*[f\"{x:5.2f}\" for x in t1_fe], sep=\" | \")\n",
    "\n",
    "print(\"Forward Euler method:\", end=\"\\t\")\n",
    "print(*[f\"{z:5.2f}\" for z in y1_fe], sep=\" | \")\n",
    "\n",
    "print(\"Backward Euler method:\", end=\"\\t\")\n",
    "print(*[f\"{z:5.2f}\" for z in y1_be], sep=\" | \")\n",
    "\n",
    "print(\"Crank-Nicolson method:\", end=\"\\t\")\n",
    "print(*[f\"{z:5.2f}\" for z in y1_cn], sep=\" | \")"
   ]
  },
  {
   "cell_type": "code",
   "execution_count": 44,
   "metadata": {},
   "outputs": [
    {
     "data": {
      "text/plain": [
       "<matplotlib.legend.Legend at 0x1e151083250>"
      ]
     },
     "execution_count": 44,
     "metadata": {},
     "output_type": "execute_result"
    },
    {
     "data": {
      "image/png": "[encoded data removed]",
      "text/plain": [
       "<Figure size 576x396 with 1 Axes>"
      ]
     },
     "metadata": {},
     "output_type": "display_data"
    }
   ],
   "source": [
    "t1_ex = np.linspace(t1_0, t1_N, 30)\n",
    "y1_ex = np.exp(t1_ex - 1)\n",
    "\n",
    "plt.plot(t1_ex, y1_ex, \"k\", label=\"exact\")\n",
    "plt.plot(t1_fe, y1_fe, \"o\", label=\"forward euler\")\n",
    "plt.plot(t1_be, y1_be, \"o\", label=\"backward euler\")\n",
    "plt.plot(t1_cn, y1_cn, \"o\", label=\"crank-nicolson\")\n",
    "plt.legend()"
   ]
  },
  {
   "cell_type": "markdown",
   "metadata": {},
   "source": [
    "#### Test 2"
   ]
  },
  {
   "cell_type": "code",
   "execution_count": 113,
   "metadata": {},
   "outputs": [],
   "source": [
    "def g(y, t, a, b, c, d):\n",
    "    predator = b * y[0] * y[1] - a * y[0]\n",
    "    prey = c * y[1] - d * y[0] * y[1]\n",
    "    return np.array([predator, prey])\n",
    "\n",
    "def f2(y, t):\n",
    "    return g(y, t, 1, 0.1, 4, 1)\n",
    "\n",
    "y2_0 = np.array([3, 5])\n",
    "t2_0 = 0\n",
    "t2_N = 10\n",
    "N2 = 10"
   ]
  },
  {
   "cell_type": "code",
   "execution_count": 114,
   "metadata": {},
   "outputs": [
    {
     "data": {
      "text/plain": [
       "<matplotlib.legend.Legend at 0x1e157ec59d0>"
      ]
     },
     "execution_count": 114,
     "metadata": {},
     "output_type": "execute_result"
    },
    {
     "data": {
      "image/png": "[encoded data removed]",
      "text/plain": [
       "<Figure size 576x396 with 1 Axes>"
      ]
     },
     "metadata": {},
     "output_type": "display_data"
    }
   ],
   "source": [
    "t2_fe, y2_fe = forward_euler(f2, y2_0, t2_0, t2_N, N2)\n",
    "\n",
    "plt.plot(t2_fe, y2_fe[:, 0], label=\"FE: predators\")\n",
    "plt.plot(t2_fe, y2_fe[:, 1], label=\"FE: preys\")\n",
    "plt.xlabel(\"time steps\")\n",
    "plt.ylabel(\"population\")\n",
    "plt.yscale(\"symlog\")\n",
    "plt.legend()"
   ]
  },
  {
   "cell_type": "code",
   "execution_count": 116,
   "metadata": {},
   "outputs": [
    {
     "name": "stdout",
     "output_type": "stream",
     "text": [
      "Fixed-point iteration did not converge for <function backward_euler.<locals>.g at 0x000001E15803EE50>.\n",
      "Fixed-point iteration did not converge for <function backward_euler.<locals>.g at 0x000001E15803EE50>.\n",
      "Fixed-point iteration did not converge for <function backward_euler.<locals>.g at 0x000001E15803EE50>.\n",
      "Fixed-point iteration did not converge for <function backward_euler.<locals>.g at 0x000001E15803EE50>.\n",
      "Fixed-point iteration did not converge for <function backward_euler.<locals>.g at 0x000001E15803EE50>.\n",
      "Fixed-point iteration did not converge for <function backward_euler.<locals>.g at 0x000001E15803EE50>.\n",
      "Fixed-point iteration did not converge for <function backward_euler.<locals>.g at 0x000001E15803EE50>.\n"
     ]
    },
    {
     "name": "stderr",
     "output_type": "stream",
     "text": [
      "<ipython-input-113-f3cf14d5bad9>:2: RuntimeWarning: overflow encountered in double_scalars\n",
      "  predator = b * y[0] * y[1] - a * y[0]\n",
      "<ipython-input-113-f3cf14d5bad9>:3: RuntimeWarning: overflow encountered in double_scalars\n",
      "  prey = c * y[1] - d * y[0] * y[1]\n",
      "<ipython-input-113-f3cf14d5bad9>:2: RuntimeWarning: invalid value encountered in double_scalars\n",
      "  predator = b * y[0] * y[1] - a * y[0]\n"
     ]
    },
    {
     "data": {
      "text/plain": [
       "<matplotlib.legend.Legend at 0x1e15667c610>"
      ]
     },
     "execution_count": 116,
     "metadata": {},
     "output_type": "execute_result"
    },
    {
     "data": {
      "image/png": "[encoded data removed]",
      "text/plain": [
       "<Figure size 576x396 with 1 Axes>"
      ]
     },
     "metadata": {},
     "output_type": "display_data"
    }
   ],
   "source": [
    "t2_be, y2_be = backward_euler(f2, y2_0, t2_0, t2_N, N2, tol=100)\n",
    "\n",
    "plt.plot(t2_be, y2_be[:, 0], label=\"BE: predators\")\n",
    "plt.plot(t2_be, y2_be[:, 1], label=\"BE: preys\")\n",
    "plt.xlabel(\"time steps\")\n",
    "plt.ylabel(\"population\")\n",
    "plt.yscale(\"symlog\")\n",
    "plt.legend()"
   ]
  },
  {
   "cell_type": "code",
   "execution_count": 115,
   "metadata": {},
   "outputs": [
    {
     "name": "stdout",
     "output_type": "stream",
     "text": [
      "Fixed-point iteration did not converge for <function crank_nicolson.<locals>.g at 0x000001E1580140D0>.\n",
      "Fixed-point iteration did not converge for <function crank_nicolson.<locals>.g at 0x000001E1580140D0>.\n",
      "Fixed-point iteration did not converge for <function crank_nicolson.<locals>.g at 0x000001E1580140D0>.\n",
      "Fixed-point iteration did not converge for <function crank_nicolson.<locals>.g at 0x000001E1580140D0>.\n",
      "Fixed-point iteration did not converge for <function crank_nicolson.<locals>.g at 0x000001E1580140D0>.\n",
      "Fixed-point iteration did not converge for <function crank_nicolson.<locals>.g at 0x000001E1580140D0>.\n",
      "Fixed-point iteration did not converge for <function crank_nicolson.<locals>.g at 0x000001E1580140D0>.\n"
     ]
    },
    {
     "name": "stderr",
     "output_type": "stream",
     "text": [
      "<ipython-input-113-f3cf14d5bad9>:2: RuntimeWarning: overflow encountered in double_scalars\n",
      "  predator = b * y[0] * y[1] - a * y[0]\n",
      "<ipython-input-113-f3cf14d5bad9>:3: RuntimeWarning: overflow encountered in double_scalars\n",
      "  prey = c * y[1] - d * y[0] * y[1]\n",
      "<ipython-input-113-f3cf14d5bad9>:2: RuntimeWarning: invalid value encountered in double_scalars\n",
      "  predator = b * y[0] * y[1] - a * y[0]\n"
     ]
    },
    {
     "data": {
      "text/plain": [
       "<matplotlib.legend.Legend at 0x1e157e3eaf0>"
      ]
     },
     "execution_count": 115,
     "metadata": {},
     "output_type": "execute_result"
    },
    {
     "data": {
      "image/png": "[encoded data removed]",
      "text/plain": [
       "<Figure size 576x396 with 1 Axes>"
      ]
     },
     "metadata": {},
     "output_type": "display_data"
    }
   ],
   "source": [
    "t2_cn, y2_cn = crank_nicolson(f2, y2_0, t2_0, t2_N, N2, tol=100)\n",
    "\n",
    "plt.plot(t2_cn, y2_cn[:, 0], label=\"CN: predators\")\n",
    "plt.plot(t2_cn, y2_cn[:, 1], label=\"CN: preys\")\n",
    "plt.xlabel(\"time steps\")\n",
    "plt.ylabel(\"population\")\n",
    "plt.yscale(\"symlog\")\n",
    "plt.legend()"
   ]
  },
  {
   "cell_type": "code",
   "execution_count": null,
   "metadata": {},
   "outputs": [],
   "source": []
  }
 ],
 "metadata": {
  "kernelspec": {
   "display_name": "Python 3",
   "language": "python",
   "name": "python3"
  },
  "language_info": {
   "codemirror_mode": {
    "name": "ipython",
    "version": 3
   },
   "file_extension": ".py",
   "mimetype": "text/x-python",
   "name": "python",
   "nbconvert_exporter": "python",
   "pygments_lexer": "ipython3",
   "version": "3.8.2"
  }
 },
 "nbformat": 4,
 "nbformat_minor": 4
}
