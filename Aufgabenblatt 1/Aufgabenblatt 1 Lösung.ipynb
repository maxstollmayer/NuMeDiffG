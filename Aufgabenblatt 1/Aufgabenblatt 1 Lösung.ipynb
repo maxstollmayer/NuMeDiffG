{
 "cells": [
  {
   "cell_type": "markdown",
   "metadata": {},
   "source": [
    "# Numerische Methoden für Differentialgleichungen"
   ]
  },
  {
   "cell_type": "markdown",
   "metadata": {},
   "source": [
    "## Aufgabenblatt 1\n",
    "*gelöst von Stollmayer Max*"
   ]
  },
  {
   "cell_type": "markdown",
   "metadata": {},
   "source": [
    "### Aufgabe 1\n",
    "Das System 2. Ordnung"
   ]
  },
  {
   "cell_type": "markdown",
   "metadata": {},
   "source": [
    "\\begin{cases}\n",
    "    \\ddot{y}_1 = t^2 - \\dot{y}_1 - y_2^2 \\\\\n",
    "    \\ddot{y}_2 = t + \\dot{y}_2 + y_1^3 \\\\\n",
    "    y_1(0)=0, \\dot{y}_1(0)=1, y_2(0)=1, \\dot{y}_2(0)=0\n",
    "\\end{cases}"
   ]
  },
  {
   "cell_type": "markdown",
   "metadata": {},
   "source": [
    "wird umgeschrieben zu einem System 1. Ordnung"
   ]
  },
  {
   "cell_type": "markdown",
   "metadata": {},
   "source": [
    "\\begin{cases}\n",
    "    \\dot{y}_1 = y_3 \\\\\n",
    "    \\dot{y}_2 = y_4 \\\\\n",
    "    \\dot{y}_3 = t^2 - y_3 - y_2^2 \\\\\n",
    "    \\dot{y}_4 = t + y_4 + y_1^3 \\\\\n",
    "    y_1(0)=0, y_2(0)=1, y_3(0)=1, y_4(0)=0\n",
    "\\end{cases}"
   ]
  },
  {
   "cell_type": "markdown",
   "metadata": {},
   "source": [
    "### Aufgabe 2\n",
    "\n",
    "Implementierung des Vorwärts-Euler-Verfahrens für ODE Systeme 1. Ordnung."
   ]
  },
  {
   "cell_type": "markdown",
   "metadata": {},
   "source": [
    "#### Definition"
   ]
  },
  {
   "cell_type": "code",
   "execution_count": 1,
   "metadata": {},
   "outputs": [],
   "source": [
    "import numpy as np \n",
    "from matplotlib import pyplot as plt\n",
    "import seaborn as sns\n",
    "sns.set()"
   ]
  },
  {
   "cell_type": "code",
   "execution_count": 2,
   "metadata": {},
   "outputs": [],
   "source": [
    "def forward_euler(f, y0, t0, tN, N):\n",
    "    '''\n",
    "    Returns list of input values and list of corresponding function values approximated with the forward Euler method\n",
    "    \n",
    "    f is the function of the ODE y' = f(y, t)\n",
    "    t0 and tN are the boundaries of the interval [t0, tN], which is divided into N+1 steps\n",
    "    y0 is the initial condition y(t0) = y0\n",
    "    '''\n",
    "    \n",
    "    # step size\n",
    "    h = (tN - t0) / N\n",
    "    \n",
    "    # list of input values with step size h\n",
    "    t = t0 + h * np.arange(N+1)\n",
    "    \n",
    "    # array of function vectors starting with the initial value\n",
    "    y = np.array([y0])\n",
    "    \n",
    "    # loop to generate function values with forward euler method\n",
    "    for n in range(0, N):\n",
    "        new = y[n] + h * f(y[n], t[n])\n",
    "        y = np.append(y, [new], axis=0)\n",
    "    \n",
    "    return t, y"
   ]
  },
  {
   "cell_type": "markdown",
   "metadata": {},
   "source": [
    "#### Test 1"
   ]
  },
  {
   "cell_type": "code",
   "execution_count": 3,
   "metadata": {
    "scrolled": false
   },
   "outputs": [
    {
     "name": "stdout",
     "output_type": "stream",
     "text": [
      "y(1.0) =  1.00\n",
      "y(1.3) =  1.30\n",
      "y(1.6) =  1.69\n",
      "y(1.9) =  2.20\n",
      "y(2.2) =  2.86\n",
      "y(2.5) =  3.71\n",
      "y(2.8) =  4.83\n",
      "y(3.1) =  6.27\n",
      "y(3.4) =  8.16\n",
      "y(3.7) = 10.60\n",
      "y(4.0) = 13.79\n"
     ]
    }
   ],
   "source": [
    "def f1(y, t):\n",
    "    return y\n",
    "\n",
    "y0_1 = 1\n",
    "t0_1 = 1\n",
    "tN_1 = 4\n",
    "N1 = 10\n",
    "\n",
    "t1, y1 = forward_euler(f1, y0_1, t0_1, tN_1, N1)\n",
    "\n",
    "for v in zip(t1, y1):\n",
    "    print(f\"y({v[0]:.1f}) = {v[1]:5.2f}\")"
   ]
  },
  {
   "cell_type": "code",
   "execution_count": 4,
   "metadata": {
    "scrolled": true
   },
   "outputs": [
    {
     "data": {
      "text/plain": [
       "<matplotlib.legend.Legend at 0x20cf18bcdc0>"
      ]
     },
     "execution_count": 4,
     "metadata": {},
     "output_type": "execute_result"
    },
    {
     "data": {
      "image/png": "[encoded data removed]",
      "text/plain": [
       "<Figure size 432x288 with 1 Axes>"
      ]
     },
     "metadata": {},
     "output_type": "display_data"
    }
   ],
   "source": [
    "x = np.linspace(1, 4, 30)\n",
    "\n",
    "plt.plot(x, np.exp(x - 1), label=\"exact\")\n",
    "plt.plot(t1, y1, \"o\", label=\"forward euler\")\n",
    "plt.legend()"
   ]
  },
  {
   "cell_type": "markdown",
   "metadata": {},
   "source": [
    "#### Test 2"
   ]
  },
  {
   "cell_type": "code",
   "execution_count": 5,
   "metadata": {},
   "outputs": [
    {
     "name": "stdout",
     "output_type": "stream",
     "text": [
      "t =  0:   3.00E+00 predators,   5.00E+00 preys\n",
      "t =  1:   1.50E+00 predators,   1.00E+01 preys\n",
      "t =  2:   1.50E+00 predators,   3.50E+01 preys\n",
      "t =  3:   5.25E+00 predators,   1.22E+02 preys\n",
      "t =  4:   6.43E+01 predators,  -3.06E+01 preys\n",
      "t =  5:  -1.97E+02 predators,   1.82E+03 preys\n",
      "t =  6:  -3.58E+04 predators,   3.67E+05 preys\n",
      "t =  7:  -1.31E+09 predators,   1.31E+10 preys\n",
      "t =  8:  -1.72E+18 predators,   1.72E+19 preys\n",
      "t =  9:  -2.97E+36 predators,   2.97E+37 preys\n",
      "t = 10:  -8.81E+72 predators,   8.81E+73 preys\n"
     ]
    }
   ],
   "source": [
    "def g(y, t, a, b, c, d):\n",
    "    return np.array([-(a - b * y[1]) * y[0], (c - d * y[0]) * y[1]])\n",
    "\n",
    "def f2(y, t):\n",
    "    return g(y, t, 1, 0.1, 4, 1)\n",
    "\n",
    "y0_2 = np.array([3, 5])\n",
    "t0_2 = 0\n",
    "tN_2 = 10\n",
    "N2 = 10\n",
    "\n",
    "t2, y2 = forward_euler(f2, y0_2, t0_2, tN_2, N2)\n",
    "\n",
    "for x, z in zip(t2, y2):\n",
    "    print(f\"t = {x:2n}:  {z[0]: .2E} predators,  {z[1]: .2E} preys\")"
   ]
  },
  {
   "cell_type": "code",
   "execution_count": 6,
   "metadata": {},
   "outputs": [
    {
     "data": {
      "text/plain": [
       "<matplotlib.legend.Legend at 0x20cf1941280>"
      ]
     },
     "execution_count": 6,
     "metadata": {},
     "output_type": "execute_result"
    },
    {
     "data": {
      "image/png": "[encoded data removed]",
      "text/plain": [
       "<Figure size 432x288 with 1 Axes>"
      ]
     },
     "metadata": {},
     "output_type": "display_data"
    }
   ],
   "source": [
    "plt.plot(t2, y2[:, 0], label=\"predators\")\n",
    "plt.plot(t2, y2[:, 1], label=\"preys\")\n",
    "plt.xlabel(\"time steps\")\n",
    "plt.ylabel(\"population\")\n",
    "plt.yscale(\"symlog\")\n",
    "plt.legend()"
   ]
  }
 ],
 "metadata": {
  "kernelspec": {
   "display_name": "Python 3",
   "language": "python",
   "name": "python3"
  },
  "language_info": {
   "codemirror_mode": {
    "name": "ipython",
    "version": 3
   },
   "file_extension": ".py",
   "mimetype": "text/x-python",
   "name": "python",
   "nbconvert_exporter": "python",
   "pygments_lexer": "ipython3",
   "version": "3.8.2"
  }
 },
 "nbformat": 4,
 "nbformat_minor": 2
}
