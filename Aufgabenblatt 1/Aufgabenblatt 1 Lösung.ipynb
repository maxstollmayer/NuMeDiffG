{
 "cells": [
  {
   "cell_type": "markdown",
   "metadata": {},
   "source": [
    "# Numerische Methoden für Differentialgleichungen"
   ]
  },
  {
   "cell_type": "markdown",
   "metadata": {},
   "source": [
    "## Aufgabenblatt 1\n",
    "*gelöst von Stollmayer Max*"
   ]
  },
  {
   "cell_type": "markdown",
   "metadata": {},
   "source": [
    "### Aufgabe 1"
   ]
  },
  {
   "cell_type": "markdown",
   "metadata": {},
   "source": [
    "\\begin{cases}\n",
    "    \\ddot{y}_1 = t^2 - \\dot{y}_1 - y_2^2 \\\\\n",
    "    \\ddot{y}_2 = t + \\dot{y}_2 + y_1^3 \\\\\n",
    "    y_1(0)=0, \\dot{y}_1(0)=1, y_2(0)=1, \\dot{y}_2(0)=0\n",
    "\\end{cases}"
   ]
  },
  {
   "cell_type": "markdown",
   "metadata": {},
   "source": [
    "wird umgeschrieben zu einem System 1. Ordnung:"
   ]
  },
  {
   "cell_type": "markdown",
   "metadata": {},
   "source": [
    "\\begin{cases}\n",
    "    \\dot{y}_1 = y_3 \\\\\n",
    "    \\dot{y}_2 = y_4 \\\\\n",
    "    \\dot{y}_3 = t^2 - y_3 - y_2^2 \\\\\n",
    "    \\dot{y}_4 = t + y_4 + y_1^3 \\\\\n",
    "    y_1(0)=0, y_2(0)=1, y_3(0)=1, y_4(0)=0\n",
    "\\end{cases}"
   ]
  },
  {
   "cell_type": "markdown",
   "metadata": {},
   "source": [
    "### Aufgabe 2: Euler-Verfahren"
   ]
  },
  {
   "cell_type": "markdown",
   "metadata": {},
   "source": [
    "#### Definition"
   ]
  },
  {
   "cell_type": "code",
   "execution_count": 1,
   "metadata": {},
   "outputs": [],
   "source": [
    "import numpy as np \n",
    "from matplotlib import pyplot as plt"
   ]
  },
  {
   "cell_type": "code",
   "execution_count": 2,
   "metadata": {},
   "outputs": [],
   "source": [
    "def euler(f,y0,t0,tN,N):\n",
    "    h = (tN-t0)/N\n",
    "    t = t0 + h*np.arange(N+1)\n",
    "    y = np.array([y0])\n",
    "    for n in range(1,N+1):\n",
    "        y = np.append(y,[y[n-1] + h*f(t[n-1],y[n-1])],axis=0)\n",
    "    return t, y"
   ]
  },
  {
   "cell_type": "markdown",
   "metadata": {},
   "source": [
    "#### Test 1"
   ]
  },
  {
   "cell_type": "code",
   "execution_count": 3,
   "metadata": {
    "scrolled": false
   },
   "outputs": [
    {
     "name": "stdout",
     "output_type": "stream",
     "text": [
      "y(1.00) = 1.00\n",
      "y(1.30) = 1.30\n",
      "y(1.60) = 1.69\n",
      "y(1.90) = 2.20\n",
      "y(2.20) = 2.86\n",
      "y(2.50) = 3.71\n",
      "y(2.80) = 4.83\n",
      "y(3.10) = 6.27\n",
      "y(3.40) = 8.16\n",
      "y(3.70) = 10.60\n",
      "y(4.00) = 13.79\n"
     ]
    }
   ],
   "source": [
    "def f(t,y):\n",
    "    return y\n",
    "\n",
    "t, y = euler(f,1,1,4,10)\n",
    "for x, z in zip(t, y):\n",
    "    print(\"y(%0.2f) = %0.2f\" % (x, z))"
   ]
  },
  {
   "cell_type": "code",
   "execution_count": 4,
   "metadata": {
    "scrolled": true
   },
   "outputs": [
    {
     "data": {
      "text/plain": [
       "<matplotlib.legend.Legend at 0x144cc644208>"
      ]
     },
     "execution_count": 4,
     "metadata": {},
     "output_type": "execute_result"
    },
    {
     "data": {
      "image/png": "[encoded data removed]",
      "text/plain": [
       "<Figure size 432x288 with 1 Axes>"
      ]
     },
     "metadata": {},
     "output_type": "display_data"
    }
   ],
   "source": [
    "t2 = np.linspace(1, 4, 30)\n",
    "y2 = np.exp(t2-1)\n",
    "\n",
    "plt.plot(t, y, \"o\", label='Euler-Verfahren')\n",
    "plt.plot(t2, y2, label='exakt')\n",
    "plt.legend()"
   ]
  },
  {
   "cell_type": "markdown",
   "metadata": {},
   "source": [
    "#### Test 2"
   ]
  },
  {
   "cell_type": "code",
   "execution_count": 5,
   "metadata": {},
   "outputs": [
    {
     "name": "stdout",
     "output_type": "stream",
     "text": [
      "t= 0:    3.00E+00 Räuber,    5.00E+00 Beute\n",
      "t= 1:    1.50E+00 Räuber,    1.00E+01 Beute\n",
      "t= 2:    1.50E+00 Räuber,    3.50E+01 Beute\n",
      "t= 3:    5.25E+00 Räuber,    1.22E+02 Beute\n",
      "t= 4:    6.43E+01 Räuber,   -3.06E+01 Beute\n",
      "t= 5:   -1.97E+02 Räuber,    1.82E+03 Beute\n",
      "t= 6:   -3.58E+04 Räuber,    3.67E+05 Beute\n",
      "t= 7:   -1.31E+09 Räuber,    1.31E+10 Beute\n",
      "t= 8:   -1.72E+18 Räuber,    1.72E+19 Beute\n",
      "t= 9:   -2.97E+36 Räuber,    2.97E+37 Beute\n",
      "t=10:   -8.81E+72 Räuber,    8.81E+73 Beute\n"
     ]
    }
   ],
   "source": [
    "def g(t,y,a,b,c,d):\n",
    "    return np.array([-(a-b*y[1])*y[0],(c-d*y[0])*y[1]])\n",
    "\n",
    "def f(t,y):\n",
    "    return g(t,y,1,0.1,4,1)\n",
    "\n",
    "t, y = euler(f,[3,5],0,10,10)\n",
    "for s, p in zip(t, y):\n",
    "    print(\"t=%2d:  %10.2E Räuber,  %10.2E Beute\" % (s, p[0], p[1]))"
   ]
  },
  {
   "cell_type": "code",
   "execution_count": 6,
   "metadata": {},
   "outputs": [
    {
     "data": {
      "text/plain": [
       "<matplotlib.legend.Legend at 0x144cc238b70>"
      ]
     },
     "execution_count": 6,
     "metadata": {},
     "output_type": "execute_result"
    },
    {
     "data": {
      "image/png": "[encoded data removed]",
      "text/plain": [
       "<Figure size 432x288 with 1 Axes>"
      ]
     },
     "metadata": {},
     "output_type": "display_data"
    }
   ],
   "source": [
    "plt.plot(t, y[:,0], label=\"Räuber\")\n",
    "plt.plot(t, y[:,1], label=\"Beute\")\n",
    "plt.xlabel(\"Zeitschritte\")\n",
    "plt.ylabel(\"Population\")\n",
    "plt.yscale(\"symlog\")\n",
    "plt.legend()"
   ]
  }
 ],
 "metadata": {
  "kernelspec": {
   "display_name": "Python 3",
   "language": "python",
   "name": "python3"
  },
  "language_info": {
   "codemirror_mode": {
    "name": "ipython",
    "version": 3
   },
   "file_extension": ".py",
   "mimetype": "text/x-python",
   "name": "python",
   "nbconvert_exporter": "python",
   "pygments_lexer": "ipython3",
   "version": "3.7.6"
  }
 },
 "nbformat": 4,
 "nbformat_minor": 2
}
