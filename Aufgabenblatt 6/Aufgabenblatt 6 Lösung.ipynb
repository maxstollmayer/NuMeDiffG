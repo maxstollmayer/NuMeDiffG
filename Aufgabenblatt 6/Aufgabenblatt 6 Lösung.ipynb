{
 "cells": [
  {
   "cell_type": "markdown",
   "metadata": {},
   "source": [
    "# Numerische Methoden für Differentialgleichungen\n",
    "## Aufgabenblatt 6\n",
    "*gelöst von Stollmayer Max*"
   ]
  },
  {
   "cell_type": "markdown",
   "metadata": {},
   "source": [
    "Zu implementieren ist eine Finite-Differenzen-Methode für die Poisson-Gleichung:"
   ]
  },
  {
   "cell_type": "markdown",
   "metadata": {},
   "source": [
    "$$\\begin{cases}\n",
    "    -\\Delta(x,y)=f(x,y),\\quad (x,y)\\in\\Omega=[0,1]\\times[0,1] \\\\\n",
    "    u(x,y)=v(x,y),\\quad (x,y)\\in\\partial\\Omega\n",
    "\\end{cases}$$"
   ]
  },
  {
   "cell_type": "markdown",
   "metadata": {},
   "source": [
    "wobei $f(x,y)=sin(x\\cdot y)\\cdot(x^2+y^2)$, und $v(x,y)=sin(x\\cdot y)$."
   ]
  },
  {
   "cell_type": "code",
   "execution_count": 3,
   "metadata": {},
   "outputs": [],
   "source": [
    "import numpy as np\n",
    "from matplotlib import pyplot as plt\n",
    "plt.style.use(\"seaborn-whitegrid\")\n",
    "plt.rcParams[\"figure.figsize\"] = [11, 6]\n",
    "plt.rcParams[\"font.size\"] = 12\n",
    "plt.rcParams[\"axes.edgecolor\"] = \"white\"\n",
    "plt.rcParams[\"legend.frameon\"] = True\n",
    "plt.rcParams[\"legend.framealpha\"] = 0.75\n",
    "plt.rcParams[\"legend.facecolor\"] = \"white\"\n",
    "plt.rcParams[\"legend.edgecolor\"] = \"white\""
   ]
  },
  {
   "cell_type": "code",
   "execution_count": 4,
   "metadata": {},
   "outputs": [
    {
     "data": {
      "text/plain": [
       "'\\nfor N in steps:\\nh = (b - a) / N\\ngrid = a + h * np.arange(N+1)\\n\\nu = FDM(f, grid, ua, ub)\\nvals += (u,)\\n\\ne = error(u, exact(grid))\\nerrors += (e,)\\nrates += (order(e, h),)\\n\\nplt.plot(grid, u, label=f\"{N} steps\")\\n\\nrates = order(errors,(b-a)/steps)\\nprint(\"steps | error    | rate\")\\nfor N, e, r in zip(steps, errors, rates):\\n    print(f\"  {N:3.0f} | {e:.2E} |   {r:2.0f}\")\\n\\nx = np.linspace(0, 2, 101)\\nplt.plot(x, exact(x), \"k\", label=\"exact\")\\nplt.legend()\\nplt.show()'"
      ]
     },
     "execution_count": 4,
     "metadata": {},
     "output_type": "execute_result"
    }
   ],
   "source": [
    "def error(exact_vals, approx_vals):\n",
    "    '''Maxmimum norm'''\n",
    "    return max(np.abs(exact_vals - approx_vals))\n",
    "\n",
    "def order(error, step_size):\n",
    "    '''Approximation of order of convergence'''\n",
    "    return np.log(error) / np.log(step_size)\n",
    "\n",
    "\n",
    "def f(x,y):\n",
    "    return np.sin(x*y) * (x**2 + y**2)\n",
    "\n",
    "def v(x,y):\n",
    "    return np.sin(x*y)\n",
    "\n",
    "def exact(x,y):\n",
    "    return v(x,y)\n",
    "\n",
    "a = c = 0\n",
    "b = d = 1\n",
    "steps = 2**np.arange(3,8)\n",
    "    \n",
    "vals = ()\n",
    "errors = ()\n",
    "rates = ()\n",
    "\n",
    "'''\n",
    "for N in steps:\n",
    "h = (b - a) / N\n",
    "grid = a + h * np.arange(N+1)\n",
    "\n",
    "u = FDM(f, grid, ua, ub)\n",
    "vals += (u,)\n",
    "\n",
    "e = error(u, exact(grid))\n",
    "errors += (e,)\n",
    "rates += (order(e, h),)\n",
    "\n",
    "plt.plot(grid, u, label=f\"{N} steps\")\n",
    "\n",
    "rates = order(errors,(b-a)/steps)\n",
    "print(\"steps | error    | rate\")\n",
    "for N, e, r in zip(steps, errors, rates):\n",
    "    print(f\"  {N:3.0f} | {e:.2E} |   {r:2.0f}\")\n",
    "\n",
    "x = np.linspace(0, 2, 101)\n",
    "plt.plot(x, exact(x), \"k\", label=\"exact\")\n",
    "plt.legend()\n",
    "plt.show()'''"
   ]
  },
  {
   "cell_type": "code",
   "execution_count": null,
   "metadata": {},
   "outputs": [],
   "source": []
  }
 ],
 "metadata": {
  "kernelspec": {
   "display_name": "Python 3",
   "language": "python",
   "name": "python3"
  },
  "language_info": {
   "codemirror_mode": {
    "name": "ipython",
    "version": 3
   },
   "file_extension": ".py",
   "mimetype": "text/x-python",
   "name": "python",
   "nbconvert_exporter": "python",
   "pygments_lexer": "ipython3",
   "version": "3.8.2"
  }
 },
 "nbformat": 4,
 "nbformat_minor": 4
}
